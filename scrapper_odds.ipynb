{
 "cells": [
  {
   "cell_type": "code",
   "execution_count": 1,
   "id": "e1fa7946",
   "metadata": {},
   "outputs": [],
   "source": [
    "import requests\n",
    "from bs4 import BeautifulSoup as bs\n",
    "import pandas as pd"
   ]
  },
  {
   "cell_type": "code",
   "execution_count": 2,
   "id": "613ed820",
   "metadata": {},
   "outputs": [],
   "source": [
    "from selenium.webdriver import Firefox\n",
    "from selenium.webdriver.firefox.options import Options"
   ]
  },
  {
   "cell_type": "code",
   "execution_count": 3,
   "id": "05d32f72",
   "metadata": {},
   "outputs": [],
   "source": [
    "url = 'https://sportsbook.draftkings.com/leagues/basketball/nba'"
   ]
  },
  {
   "cell_type": "code",
   "execution_count": 4,
   "id": "a300625b",
   "metadata": {},
   "outputs": [],
   "source": [
    "options = Options()\n",
    "options.add_argument('--headless')\n",
    "driver = Firefox(options=options)\n",
    "\n",
    "driver.get(url)\n",
    "\n",
    "html = driver.page_source\n",
    "soup = bs(html, 'lxml')\n",
    "\n",
    "driver.close()"
   ]
  },
  {
   "cell_type": "code",
   "execution_count": 5,
   "id": "1d39bc7a",
   "metadata": {},
   "outputs": [],
   "source": [
    "def american_to_decimal(american):\n",
    "    '''\n",
    "    This functions transform an american system odd (e.g. -120) to a decimal system (e.g 1.8)\n",
    "    \n",
    "    INPUTS:\n",
    "    player: row containing player stats\n",
    "    \n",
    "    OUTPUT:\n",
    "    new_player: copy of the player df input with the updated Odd value in Decimal System\n",
    "    '''\n",
    "    # Check if the value is positive or negative (e.g. Odd = +100 or Odd = -120)\n",
    "    # Transform it to decimal with the given formula\n",
    "    if american > 0:\n",
    "        decimal = (american/100) + 1\n",
    "    else:\n",
    "        decimal = (100/abs(american)) + 1\n",
    "    \n",
    "    return decimal"
   ]
  },
  {
   "cell_type": "code",
   "execution_count": 6,
   "id": "4674e94f",
   "metadata": {
    "scrolled": true
   },
   "outputs": [
    {
     "data": {
      "text/html": [
       "<div>\n",
       "<style scoped>\n",
       "    .dataframe tbody tr th:only-of-type {\n",
       "        vertical-align: middle;\n",
       "    }\n",
       "\n",
       "    .dataframe tbody tr th {\n",
       "        vertical-align: top;\n",
       "    }\n",
       "\n",
       "    .dataframe thead th {\n",
       "        text-align: right;\n",
       "    }\n",
       "</style>\n",
       "<table border=\"1\" class=\"dataframe\">\n",
       "  <thead>\n",
       "    <tr style=\"text-align: right;\">\n",
       "      <th></th>\n",
       "      <th>visitor</th>\n",
       "      <th>local</th>\n",
       "      <th>v_line</th>\n",
       "      <th>l_line</th>\n",
       "    </tr>\n",
       "  </thead>\n",
       "  <tbody>\n",
       "    <tr>\n",
       "      <th>0</th>\n",
       "      <td>LAL</td>\n",
       "      <td>BOS</td>\n",
       "      <td>6.000000</td>\n",
       "      <td>1.142857</td>\n",
       "    </tr>\n",
       "    <tr>\n",
       "      <th>1</th>\n",
       "      <td>IND</td>\n",
       "      <td>NYK</td>\n",
       "      <td>2.200000</td>\n",
       "      <td>1.704225</td>\n",
       "    </tr>\n",
       "    <tr>\n",
       "      <th>2</th>\n",
       "      <td>CLE</td>\n",
       "      <td>MEM</td>\n",
       "      <td>1.307692</td>\n",
       "      <td>3.600000</td>\n",
       "    </tr>\n",
       "    <tr>\n",
       "      <th>3</th>\n",
       "      <td>PHI</td>\n",
       "      <td>UTA</td>\n",
       "      <td>2.600000</td>\n",
       "      <td>1.520833</td>\n",
       "    </tr>\n",
       "  </tbody>\n",
       "</table>\n",
       "</div>"
      ],
      "text/plain": [
       "  visitor local    v_line    l_line\n",
       "0     LAL   BOS  6.000000  1.142857\n",
       "1     IND   NYK  2.200000  1.704225\n",
       "2     CLE   MEM  1.307692  3.600000\n",
       "3     PHI   UTA  2.600000  1.520833"
      ]
     },
     "execution_count": 6,
     "metadata": {},
     "output_type": "execute_result"
    }
   ],
   "source": [
    "table = soup.find('tbody', {'class': 'sportsbook-table__body'})\n",
    "rows = table.findAll('tr')\n",
    "games, game, idx = [], {'visitor': '', 'local': '', 'v_line': 0, 'l_line': 0}, 0\n",
    "for row in rows:\n",
    "    team_name = row.find('div', {'class': 'event-cell__name-text'}).text.split(' ')\n",
    "    if len(team_name[0]) == 3:\n",
    "        team_id = team_name[0]\n",
    "    else:\n",
    "        team_id = team_name[0] + team_name[1][0]\n",
    "    odd = row.find('span', {'class': 'sportsbook-odds american no-margin default-color'}).text.replace('−', '-')\n",
    "    \n",
    "    if idx == 0:\n",
    "        game['visitor'] = team_id\n",
    "        game['v_line'] = american_to_decimal(int(odd))\n",
    "        idx = 1\n",
    "        \n",
    "    elif idx == 1:\n",
    "        game['local'] = team_id\n",
    "        game['l_line'] = american_to_decimal(int(odd))\n",
    "        idx = 0\n",
    "        \n",
    "        games.append(game)\n",
    "        game = {'visitor': '', 'local': '', 'v_line': 0, 'l_line': 0}\n",
    "    \n",
    "games_df = pd.DataFrame(games)\n",
    "games_df"
   ]
  },
  {
   "cell_type": "code",
   "execution_count": 7,
   "id": "e91717a0",
   "metadata": {},
   "outputs": [],
   "source": [
    "games_df.to_excel('Models/games_odds.xlsx', index=0)"
   ]
  }
 ],
 "metadata": {
  "kernelspec": {
   "display_name": "Python 3 (ipykernel)",
   "language": "python",
   "name": "python3"
  },
  "language_info": {
   "codemirror_mode": {
    "name": "ipython",
    "version": 3
   },
   "file_extension": ".py",
   "mimetype": "text/x-python",
   "name": "python",
   "nbconvert_exporter": "python",
   "pygments_lexer": "ipython3",
   "version": "3.9.13"
  }
 },
 "nbformat": 4,
 "nbformat_minor": 5
}
