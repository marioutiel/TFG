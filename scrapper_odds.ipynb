{
 "cells": [
  {
   "cell_type": "code",
   "execution_count": 1,
   "id": "e1fa7946",
   "metadata": {},
   "outputs": [],
   "source": [
    "import requests\n",
    "from bs4 import BeautifulSoup as bs\n",
    "import pandas as pd"
   ]
  },
  {
   "cell_type": "code",
   "execution_count": 2,
   "id": "613ed820",
   "metadata": {},
   "outputs": [],
   "source": [
    "from selenium.webdriver import Firefox"
   ]
  },
  {
   "cell_type": "code",
   "execution_count": 3,
   "id": "05d32f72",
   "metadata": {},
   "outputs": [],
   "source": [
    "url = 'https://sportsbook.draftkings.com/leagues/basketball/nba'"
   ]
  },
  {
   "cell_type": "code",
   "execution_count": 4,
   "id": "a300625b",
   "metadata": {},
   "outputs": [],
   "source": [
    "driver = Firefox()\n",
    "driver.get(url)\n",
    "\n",
    "html = driver.page_source\n",
    "soup = bs(html, 'lxml')\n",
    "\n",
    "driver.close()"
   ]
  },
  {
   "cell_type": "code",
   "execution_count": 5,
   "id": "4674e94f",
   "metadata": {
    "scrolled": true
   },
   "outputs": [
    {
     "data": {
      "text/html": [
       "<div>\n",
       "<style scoped>\n",
       "    .dataframe tbody tr th:only-of-type {\n",
       "        vertical-align: middle;\n",
       "    }\n",
       "\n",
       "    .dataframe tbody tr th {\n",
       "        vertical-align: top;\n",
       "    }\n",
       "\n",
       "    .dataframe thead th {\n",
       "        text-align: right;\n",
       "    }\n",
       "</style>\n",
       "<table border=\"1\" class=\"dataframe\">\n",
       "  <thead>\n",
       "    <tr style=\"text-align: right;\">\n",
       "      <th></th>\n",
       "      <th>visitor</th>\n",
       "      <th>local</th>\n",
       "      <th>v_line</th>\n",
       "      <th>l_line</th>\n",
       "    </tr>\n",
       "  </thead>\n",
       "  <tbody>\n",
       "    <tr>\n",
       "      <th>0</th>\n",
       "      <td>DEN</td>\n",
       "      <td>IND</td>\n",
       "      <td>-192</td>\n",
       "      <td>160</td>\n",
       "    </tr>\n",
       "    <tr>\n",
       "      <th>1</th>\n",
       "      <td>NYK</td>\n",
       "      <td>BKN</td>\n",
       "      <td>-175</td>\n",
       "      <td>145</td>\n",
       "    </tr>\n",
       "    <tr>\n",
       "      <th>2</th>\n",
       "      <td>POR</td>\n",
       "      <td>OKC</td>\n",
       "      <td>575</td>\n",
       "      <td>-850</td>\n",
       "    </tr>\n",
       "    <tr>\n",
       "      <th>3</th>\n",
       "      <td>UTA</td>\n",
       "      <td>NOP</td>\n",
       "      <td>205</td>\n",
       "      <td>-250</td>\n",
       "    </tr>\n",
       "    <tr>\n",
       "      <th>4</th>\n",
       "      <td>LAL</td>\n",
       "      <td>LAC</td>\n",
       "      <td>310</td>\n",
       "      <td>-395</td>\n",
       "    </tr>\n",
       "  </tbody>\n",
       "</table>\n",
       "</div>"
      ],
      "text/plain": [
       "  visitor local  v_line  l_line\n",
       "0     DEN   IND    -192     160\n",
       "1     NYK   BKN    -175     145\n",
       "2     POR   OKC     575    -850\n",
       "3     UTA   NOP     205    -250\n",
       "4     LAL   LAC     310    -395"
      ]
     },
     "execution_count": 5,
     "metadata": {},
     "output_type": "execute_result"
    }
   ],
   "source": [
    "table = soup.find('tbody', {'class': 'sportsbook-table__body'})\n",
    "rows = table.findAll('tr')\n",
    "games, game, idx = [], {'visitor': '', 'local': '', 'v_line': 0, 'l_line': 0}, 0\n",
    "for row in rows:\n",
    "    team_name = row.find('div', {'class': 'event-cell__name-text'}).text.split(' ')\n",
    "    if len(team_name[0]) == 3:\n",
    "        team_id = team_name[0]\n",
    "    else:\n",
    "        team_id = team_name[0] + team_name[1][0]\n",
    "    odd = row.find('span', {'class': 'sportsbook-odds american no-margin default-color'}).text.replace('−', '-')\n",
    "    \n",
    "    if idx == 0:\n",
    "        game['visitor'] = team_id\n",
    "        game['v_line'] = int(odd)\n",
    "        idx = 1\n",
    "        \n",
    "    elif idx == 1:\n",
    "        game['local'] = team_id\n",
    "        game['l_line'] = int(odd)\n",
    "        idx = 0\n",
    "        \n",
    "        games.append(game)\n",
    "        game = {'visitor': '', 'local': '', 'v_line': 0, 'l_line': 0}\n",
    "    \n",
    "games_df = pd.DataFrame(games)\n",
    "games_df"
   ]
  },
  {
   "cell_type": "code",
   "execution_count": 6,
   "id": "e91717a0",
   "metadata": {},
   "outputs": [],
   "source": [
    "games_df.to_excel('data/games_odds.xlsx', index=0)"
   ]
  }
 ],
 "metadata": {
  "kernelspec": {
   "display_name": "Python 3 (ipykernel)",
   "language": "python",
   "name": "python3"
  },
  "language_info": {
   "codemirror_mode": {
    "name": "ipython",
    "version": 3
   },
   "file_extension": ".py",
   "mimetype": "text/x-python",
   "name": "python",
   "nbconvert_exporter": "python",
   "pygments_lexer": "ipython3",
   "version": "3.9.13"
  }
 },
 "nbformat": 4,
 "nbformat_minor": 5
}
