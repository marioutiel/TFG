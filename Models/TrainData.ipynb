{
 "cells": [
  {
   "cell_type": "code",
   "execution_count": 1,
   "id": "0fa0e87d",
   "metadata": {},
   "outputs": [],
   "source": [
    "import pandas as pd\n",
    "import os"
   ]
  },
  {
   "cell_type": "code",
   "execution_count": 2,
   "id": "b845b1c6",
   "metadata": {},
   "outputs": [],
   "source": [
    "os.chdir('..')\n",
    "from team_functions import dataPrep, getTeamRollingSeason, mapTeamID"
   ]
  },
  {
   "cell_type": "code",
   "execution_count": 3,
   "id": "7cec9904",
   "metadata": {},
   "outputs": [],
   "source": [
    "teams_df = pd.DataFrame([])\n",
    "current_df = pd.DataFrame([])\n",
    "for team_file in os.listdir('data/TeamsPrep'):\n",
    "    team_id = team_file[:3]\n",
    "    \n",
    "    for year in [2020, 2021, 2022, 2023]:\n",
    "        team_df = pd.read_excel(f'data/TeamsPrep/{team_file}', str(year))\n",
    "\n",
    "        team_df['TeamID'] = mapTeamID(team_id)\n",
    "        team_df['OppID'] = team_df['OppID'].apply(lambda x: mapTeamID(x))\n",
    "        team_df['Season'] = year\n",
    "\n",
    "        teams_df = pd.concat([teams_df, team_df])\n",
    "        \n",
    "    team_df = pd.read_excel(f'data/CurrentSeason/{team_file}')\n",
    "    \n",
    "    roll_df = getTeamRollingSeason(team_df)\n",
    "    prep_df = dataPrep(roll_df, 'Games')\n",
    "    \n",
    "    prep_df['TeamID'] = mapTeamID(team_id)\n",
    "    prep_df['OppID'] = prep_df['OppID'].apply(lambda x: mapTeamID(x))\n",
    "    prep_df['Season'] = 2024\n",
    "    \n",
    "    current_df = pd.concat([current_df, prep_df])\n",
    "    \n",
    "teams_df = teams_df.drop(columns=['Date']).reset_index(drop=True)\n",
    "current_df = current_df.drop(columns=['Date']).reset_index(drop=True)"
   ]
  },
  {
   "cell_type": "code",
   "execution_count": 4,
   "id": "54662741",
   "metadata": {},
   "outputs": [],
   "source": [
    "teams_df.to_excel('Models/train.xlsx', index=0)\n",
    "current_df.to_excel('Models/test.xlsx', index=0)"
   ]
  }
 ],
 "metadata": {
  "kernelspec": {
   "display_name": "Python 3 (ipykernel)",
   "language": "python",
   "name": "python3"
  },
  "language_info": {
   "codemirror_mode": {
    "name": "ipython",
    "version": 3
   },
   "file_extension": ".py",
   "mimetype": "text/x-python",
   "name": "python",
   "nbconvert_exporter": "python",
   "pygments_lexer": "ipython3",
   "version": "3.9.13"
  }
 },
 "nbformat": 4,
 "nbformat_minor": 5
}
