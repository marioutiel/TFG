{
 "cells": [
  {
   "cell_type": "code",
   "execution_count": 1,
   "id": "000d47a2",
   "metadata": {},
   "outputs": [],
   "source": [
    "import pandas as pd"
   ]
  },
  {
   "cell_type": "code",
   "execution_count": 2,
   "id": "7cf176ee",
   "metadata": {},
   "outputs": [],
   "source": [
    "import os\n",
    "os.chdir('..')\n",
    "\n",
    "from team_functions import mapTeamID, getTeamRollingSeason"
   ]
  },
  {
   "cell_type": "code",
   "execution_count": 3,
   "id": "2cbc56c9",
   "metadata": {},
   "outputs": [],
   "source": [
    "window_sizes = [5,10,15,18,20]\n",
    "for window in window_sizes:\n",
    "    window_df = pd.DataFrame([])\n",
    "    \n",
    "    for team_file in os.listdir('data/TeamsData'):\n",
    "        team_id = team_file[:3]\n",
    "        \n",
    "        team_df = pd.read_excel(f'data/TeamsData/{team_file}', '2023')\n",
    "        roll_df = getTeamRollingSeason(team_df, window=window)\n",
    "        \n",
    "        roll_df['TeamID'] = mapTeamID(team_id)\n",
    "        roll_df['OppID'] = roll_df['OppID'].apply(lambda x: mapTeamID(x))\n",
    "        \n",
    "        window_df = pd.concat([window_df, roll_df])\n",
    "        \n",
    "    window_df = window_df.sort_values(by=['Date']).reset_index(drop=True)\n",
    "    window_df = window_df.loc[window_df['Game'] != 1].dropna()\n",
    "    window_df.to_excel(f'TemporalModels/data/train_{window}.xlsx', index=0)        "
   ]
  }
 ],
 "metadata": {
  "kernelspec": {
   "display_name": "Python 3 (ipykernel)",
   "language": "python",
   "name": "python3"
  },
  "language_info": {
   "codemirror_mode": {
    "name": "ipython",
    "version": 3
   },
   "file_extension": ".py",
   "mimetype": "text/x-python",
   "name": "python",
   "nbconvert_exporter": "python",
   "pygments_lexer": "ipython3",
   "version": "3.9.13"
  }
 },
 "nbformat": 4,
 "nbformat_minor": 5
}
