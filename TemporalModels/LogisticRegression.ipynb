{
 "cells": [
  {
   "cell_type": "code",
   "execution_count": 1,
   "id": "4529cf33",
   "metadata": {},
   "outputs": [],
   "source": [
    "import pandas as pd"
   ]
  },
  {
   "cell_type": "code",
   "execution_count": 2,
   "id": "ffbc07d8",
   "metadata": {},
   "outputs": [],
   "source": [
    "from sklearn.model_selection import train_test_split\n",
    "from sklearn.preprocessing import StandardScaler\n",
    "from sklearn.linear_model import LogisticRegression\n",
    "from sklearn.metrics import confusion_matrix, classification_report, accuracy_score"
   ]
  },
  {
   "cell_type": "code",
   "execution_count": 3,
   "id": "d0b0ad59",
   "metadata": {},
   "outputs": [
    {
     "name": "stdout",
     "output_type": "stream",
     "text": [
      "============================================================\n",
      "Training Logistic Regression Model with window size=5 games\n",
      "Model Accuracy: 0.5397849462365591\n",
      "Report:\n",
      "               precision    recall  f1-score   support\n",
      "\n",
      "           0       0.54      0.58      0.56       232\n",
      "           1       0.54      0.50      0.52       233\n",
      "\n",
      "    accuracy                           0.54       465\n",
      "   macro avg       0.54      0.54      0.54       465\n",
      "weighted avg       0.54      0.54      0.54       465\n",
      "\n",
      "Confusion Matrix:\n",
      " [[135  97]\n",
      " [117 116]]\n",
      "============================================================\n",
      "============================================================\n",
      "Training Logistic Regression Model with window size=10 games\n",
      "Model Accuracy: 0.5563218390804597\n",
      "Report:\n",
      "               precision    recall  f1-score   support\n",
      "\n",
      "           0       0.55      0.59      0.57       217\n",
      "           1       0.56      0.52      0.54       218\n",
      "\n",
      "    accuracy                           0.56       435\n",
      "   macro avg       0.56      0.56      0.56       435\n",
      "weighted avg       0.56      0.56      0.56       435\n",
      "\n",
      "Confusion Matrix:\n",
      " [[128  89]\n",
      " [104 114]]\n",
      "============================================================\n",
      "============================================================\n",
      "Training Logistic Regression Model with window size=15 games\n",
      "Model Accuracy: 0.5679012345679012\n",
      "Report:\n",
      "               precision    recall  f1-score   support\n",
      "\n",
      "           0       0.57      0.57      0.57       202\n",
      "           1       0.57      0.56      0.57       203\n",
      "\n",
      "    accuracy                           0.57       405\n",
      "   macro avg       0.57      0.57      0.57       405\n",
      "weighted avg       0.57      0.57      0.57       405\n",
      "\n",
      "Confusion Matrix:\n",
      " [[116  86]\n",
      " [ 89 114]]\n",
      "============================================================\n",
      "============================================================\n",
      "Training Logistic Regression Model with window size=18 games\n",
      "Model Accuracy: 0.5891472868217055\n",
      "Report:\n",
      "               precision    recall  f1-score   support\n",
      "\n",
      "           0       0.59      0.60      0.59       193\n",
      "           1       0.59      0.58      0.58       194\n",
      "\n",
      "    accuracy                           0.59       387\n",
      "   macro avg       0.59      0.59      0.59       387\n",
      "weighted avg       0.59      0.59      0.59       387\n",
      "\n",
      "Confusion Matrix:\n",
      " [[116  77]\n",
      " [ 82 112]]\n",
      "============================================================\n",
      "============================================================\n",
      "Training Logistic Regression Model with window size=20 games\n",
      "Model Accuracy: 0.576\n",
      "Report:\n",
      "               precision    recall  f1-score   support\n",
      "\n",
      "           0       0.58      0.56      0.57       188\n",
      "           1       0.57      0.59      0.58       187\n",
      "\n",
      "    accuracy                           0.58       375\n",
      "   macro avg       0.58      0.58      0.58       375\n",
      "weighted avg       0.58      0.58      0.58       375\n",
      "\n",
      "Confusion Matrix:\n",
      " [[106  82]\n",
      " [ 77 110]]\n",
      "============================================================\n"
     ]
    }
   ],
   "source": [
    "models = []\n",
    "\n",
    "window_sizes = [5,10,15,18,20]\n",
    "for window in window_sizes:\n",
    "    print('='*60)\n",
    "    print(f'Training Logistic Regression Model with window size={window} games')\n",
    "    window_df = pd.read_excel(f'data/train_{window}.xlsx')\n",
    "    \n",
    "    X = window_df.drop(columns=['Target'])\n",
    "    y = window_df['Target']\n",
    "    \n",
    "    scaler = StandardScaler()\n",
    "    X_scaled = scaler.fit_transform(X.drop(columns=['Date']))\n",
    "    \n",
    "    X_train, X_test, y_train, y_test = train_test_split(X_scaled, y, test_size=0.2, shuffle=False)\n",
    "    \n",
    "    lr_model = LogisticRegression()\n",
    "    lr_model.fit(X_train, y_train)\n",
    "    \n",
    "    y_pred = lr_model.predict(X_test)\n",
    "    lr_acc = accuracy_score(y_test, y_pred)\n",
    "    models.append({'Window': window, 'Model': lr_model, 'Scaler': scaler, 'Accuracy': lr_acc})\n",
    "    \n",
    "    print(f'Model Accuracy: {lr_acc}')\n",
    "    print('Report:\\n', classification_report(y_test, y_pred))\n",
    "    print('Confusion Matrix:\\n', confusion_matrix(y_test, y_pred))\n",
    "    print('='*60)"
   ]
  },
  {
   "cell_type": "code",
   "execution_count": 4,
   "id": "e1f10d5c",
   "metadata": {},
   "outputs": [
    {
     "data": {
      "text/html": [
       "<div>\n",
       "<style scoped>\n",
       "    .dataframe tbody tr th:only-of-type {\n",
       "        vertical-align: middle;\n",
       "    }\n",
       "\n",
       "    .dataframe tbody tr th {\n",
       "        vertical-align: top;\n",
       "    }\n",
       "\n",
       "    .dataframe thead th {\n",
       "        text-align: right;\n",
       "    }\n",
       "</style>\n",
       "<table border=\"1\" class=\"dataframe\">\n",
       "  <thead>\n",
       "    <tr style=\"text-align: right;\">\n",
       "      <th></th>\n",
       "      <th>Window</th>\n",
       "      <th>Model</th>\n",
       "      <th>Scaler</th>\n",
       "      <th>Accuracy</th>\n",
       "    </tr>\n",
       "  </thead>\n",
       "  <tbody>\n",
       "    <tr>\n",
       "      <th>0</th>\n",
       "      <td>18</td>\n",
       "      <td>LogisticRegression()</td>\n",
       "      <td>StandardScaler()</td>\n",
       "      <td>0.589147</td>\n",
       "    </tr>\n",
       "    <tr>\n",
       "      <th>1</th>\n",
       "      <td>20</td>\n",
       "      <td>LogisticRegression()</td>\n",
       "      <td>StandardScaler()</td>\n",
       "      <td>0.576000</td>\n",
       "    </tr>\n",
       "    <tr>\n",
       "      <th>2</th>\n",
       "      <td>15</td>\n",
       "      <td>LogisticRegression()</td>\n",
       "      <td>StandardScaler()</td>\n",
       "      <td>0.567901</td>\n",
       "    </tr>\n",
       "    <tr>\n",
       "      <th>3</th>\n",
       "      <td>10</td>\n",
       "      <td>LogisticRegression()</td>\n",
       "      <td>StandardScaler()</td>\n",
       "      <td>0.556322</td>\n",
       "    </tr>\n",
       "    <tr>\n",
       "      <th>4</th>\n",
       "      <td>5</td>\n",
       "      <td>LogisticRegression()</td>\n",
       "      <td>StandardScaler()</td>\n",
       "      <td>0.539785</td>\n",
       "    </tr>\n",
       "  </tbody>\n",
       "</table>\n",
       "</div>"
      ],
      "text/plain": [
       "   Window                 Model            Scaler  Accuracy\n",
       "0      18  LogisticRegression()  StandardScaler()  0.589147\n",
       "1      20  LogisticRegression()  StandardScaler()  0.576000\n",
       "2      15  LogisticRegression()  StandardScaler()  0.567901\n",
       "3      10  LogisticRegression()  StandardScaler()  0.556322\n",
       "4       5  LogisticRegression()  StandardScaler()  0.539785"
      ]
     },
     "execution_count": 4,
     "metadata": {},
     "output_type": "execute_result"
    }
   ],
   "source": [
    "lr_models = pd.DataFrame(models)\n",
    "lr_models = lr_models.sort_values(by=['Accuracy'], ascending=False).reset_index(drop=True)\n",
    "lr_models"
   ]
  },
  {
   "cell_type": "code",
   "execution_count": 5,
   "id": "95ef5570",
   "metadata": {},
   "outputs": [],
   "source": [
    "import joblib"
   ]
  },
  {
   "cell_type": "code",
   "execution_count": 6,
   "id": "37b72edd",
   "metadata": {},
   "outputs": [
    {
     "name": "stdout",
     "output_type": "stream",
     "text": [
      "Best Model by Accuracy\n",
      "Window: 18\n",
      "Accuracy: 0.5891472868217055\n"
     ]
    }
   ],
   "source": [
    "model = lr_models.iloc[0]['Model']\n",
    "scaler = lr_models.iloc[0]['Scaler']\n",
    "print('Best Model by Accuracy')\n",
    "print(f'Window: {lr_models.iloc[0][\"Window\"]}')\n",
    "print(f'Accuracy: {lr_models.iloc[0][\"Accuracy\"]}')"
   ]
  },
  {
   "cell_type": "code",
   "execution_count": 7,
   "id": "389b2ec5",
   "metadata": {},
   "outputs": [
    {
     "data": {
      "text/plain": [
       "['Scalers/LR.bin']"
      ]
     },
     "execution_count": 7,
     "metadata": {},
     "output_type": "execute_result"
    }
   ],
   "source": [
    "file = 'TrainedModels/LR_Model.pkl'\n",
    "scaler_file = 'Scalers/LR.bin'\n",
    "joblib.dump(model, file)\n",
    "joblib.dump(scaler, scaler_file, compress=True)"
   ]
  }
 ],
 "metadata": {
  "kernelspec": {
   "display_name": "Python 3 (ipykernel)",
   "language": "python",
   "name": "python3"
  },
  "language_info": {
   "codemirror_mode": {
    "name": "ipython",
    "version": 3
   },
   "file_extension": ".py",
   "mimetype": "text/x-python",
   "name": "python",
   "nbconvert_exporter": "python",
   "pygments_lexer": "ipython3",
   "version": "3.9.13"
  }
 },
 "nbformat": 4,
 "nbformat_minor": 5
}
