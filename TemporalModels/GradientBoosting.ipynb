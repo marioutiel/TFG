{
 "cells": [
  {
   "cell_type": "code",
   "execution_count": 1,
   "id": "2b152e2c",
   "metadata": {},
   "outputs": [],
   "source": [
    "import pandas as pd\n",
    "import numpy as np"
   ]
  },
  {
   "cell_type": "code",
   "execution_count": 2,
   "id": "e817478f",
   "metadata": {},
   "outputs": [],
   "source": [
    "from sklearn.model_selection import train_test_split, GridSearchCV\n",
    "from sklearn.preprocessing import StandardScaler\n",
    "from sklearn.ensemble import GradientBoostingClassifier\n",
    "from sklearn.metrics import confusion_matrix, classification_report, accuracy_score"
   ]
  },
  {
   "cell_type": "code",
   "execution_count": 3,
   "id": "0bf924af",
   "metadata": {},
   "outputs": [],
   "source": [
    "models = []\n",
    "param_grid = {\n",
    "    \"loss\":[\"log_loss\"],\n",
    "    \"learning_rate\": [0.01, 0.025, 0.05, 0.075, 0.1, 0.15, 0.2],\n",
    "    \"min_samples_split\": np.linspace(0.1, 0.5, 12),\n",
    "    \"min_samples_leaf\": np.linspace(0.1, 0.5, 12),\n",
    "    \"max_depth\":[3,5,8],\n",
    "    \"max_features\":[\"log2\",\"sqrt\"],\n",
    "    \"criterion\": [\"friedman_mse\",  \"squared_error\"],\n",
    "    \"subsample\":[0.5, 0.618, 0.8, 0.85, 0.9, 0.95, 1.0],\n",
    "    \"n_estimators\":[10]\n",
    "    }"
   ]
  },
  {
   "cell_type": "code",
   "execution_count": 4,
   "id": "08076900",
   "metadata": {},
   "outputs": [
    {
     "name": "stdout",
     "output_type": "stream",
     "text": [
      "============================================================\n",
      "Training Gradient Boosting Model with window size=5 games\n",
      "Model Accuracy: 0.5634408602150538\n",
      "Report:\n",
      "               precision    recall  f1-score   support\n",
      "\n",
      "           0       0.56      0.60      0.58       232\n",
      "           1       0.57      0.52      0.55       233\n",
      "\n",
      "    accuracy                           0.56       465\n",
      "   macro avg       0.56      0.56      0.56       465\n",
      "weighted avg       0.56      0.56      0.56       465\n",
      "\n",
      "Confusion Matrix:\n",
      " [[140  92]\n",
      " [111 122]]\n",
      "============================================================\n",
      "============================================================\n",
      "Training Gradient Boosting Model with window size=10 games\n",
      "Model Accuracy: 0.5954022988505747\n",
      "Report:\n",
      "               precision    recall  f1-score   support\n",
      "\n",
      "           0       0.59      0.65      0.61       217\n",
      "           1       0.61      0.55      0.57       218\n",
      "\n",
      "    accuracy                           0.60       435\n",
      "   macro avg       0.60      0.60      0.59       435\n",
      "weighted avg       0.60      0.60      0.59       435\n",
      "\n",
      "Confusion Matrix:\n",
      " [[140  77]\n",
      " [ 99 119]]\n",
      "============================================================\n",
      "============================================================\n",
      "Training Gradient Boosting Model with window size=15 games\n",
      "Model Accuracy: 0.5901234567901235\n",
      "Report:\n",
      "               precision    recall  f1-score   support\n",
      "\n",
      "           0       0.58      0.64      0.61       202\n",
      "           1       0.60      0.54      0.57       203\n",
      "\n",
      "    accuracy                           0.59       405\n",
      "   macro avg       0.59      0.59      0.59       405\n",
      "weighted avg       0.59      0.59      0.59       405\n",
      "\n",
      "Confusion Matrix:\n",
      " [[129  73]\n",
      " [ 93 110]]\n",
      "============================================================\n",
      "============================================================\n",
      "Training Gradient Boosting Model with window size=18 games\n",
      "Model Accuracy: 0.5348837209302325\n",
      "Report:\n",
      "               precision    recall  f1-score   support\n",
      "\n",
      "           0       0.53      0.52      0.53       193\n",
      "           1       0.54      0.55      0.54       194\n",
      "\n",
      "    accuracy                           0.53       387\n",
      "   macro avg       0.53      0.53      0.53       387\n",
      "weighted avg       0.53      0.53      0.53       387\n",
      "\n",
      "Confusion Matrix:\n",
      " [[100  93]\n",
      " [ 87 107]]\n",
      "============================================================\n",
      "============================================================\n",
      "Training Gradient Boosting Model with window size=20 games\n",
      "Model Accuracy: 0.5973333333333334\n",
      "Report:\n",
      "               precision    recall  f1-score   support\n",
      "\n",
      "           0       0.59      0.65      0.62       188\n",
      "           1       0.61      0.55      0.57       187\n",
      "\n",
      "    accuracy                           0.60       375\n",
      "   macro avg       0.60      0.60      0.60       375\n",
      "weighted avg       0.60      0.60      0.60       375\n",
      "\n",
      "Confusion Matrix:\n",
      " [[122  66]\n",
      " [ 85 102]]\n",
      "============================================================\n"
     ]
    }
   ],
   "source": [
    "window_sizes = [5,10,15,18,20]\n",
    "for window in window_sizes:\n",
    "    print('='*60)\n",
    "    print(f'Training Gradient Boosting Model with window size={window} games')\n",
    "    window_df = pd.read_excel(f'data/train_{window}.xlsx')\n",
    "    \n",
    "    X = window_df.drop(columns=['Target'])\n",
    "    y = window_df['Target']\n",
    "    \n",
    "    scaler = StandardScaler()\n",
    "    X_scaled = scaler.fit_transform(X.drop(columns=['Date']))\n",
    "    \n",
    "    X_train, X_test, y_train, y_test = train_test_split(X_scaled, y, test_size=0.2, shuffle=False)\n",
    "    \n",
    "    grid_search = GridSearchCV(GradientBoostingClassifier(), param_grid, cv=5, n_jobs=-1)\n",
    "    grid_search.fit(X_train, y_train)\n",
    "    best_gbm_model = grid_search.best_estimator_\n",
    "    \n",
    "    y_pred = best_gbm_model.predict(X_test)\n",
    "    lr_acc = accuracy_score(y_test, y_pred)\n",
    "    models.append({'Window': window, 'Model': best_gbm_model, 'Scaler': scaler, 'Accuracy': lr_acc})\n",
    "    \n",
    "    print(f'Model Accuracy: {lr_acc}')\n",
    "    print('Report:\\n', classification_report(y_test, y_pred))\n",
    "    print('Confusion Matrix:\\n', confusion_matrix(y_test, y_pred))\n",
    "    print('='*60)"
   ]
  },
  {
   "cell_type": "code",
   "execution_count": 7,
   "id": "ff4f10da",
   "metadata": {},
   "outputs": [
    {
     "data": {
      "text/html": [
       "<div>\n",
       "<style scoped>\n",
       "    .dataframe tbody tr th:only-of-type {\n",
       "        vertical-align: middle;\n",
       "    }\n",
       "\n",
       "    .dataframe tbody tr th {\n",
       "        vertical-align: top;\n",
       "    }\n",
       "\n",
       "    .dataframe thead th {\n",
       "        text-align: right;\n",
       "    }\n",
       "</style>\n",
       "<table border=\"1\" class=\"dataframe\">\n",
       "  <thead>\n",
       "    <tr style=\"text-align: right;\">\n",
       "      <th></th>\n",
       "      <th>Window</th>\n",
       "      <th>Model</th>\n",
       "      <th>Scaler</th>\n",
       "      <th>Accuracy</th>\n",
       "    </tr>\n",
       "  </thead>\n",
       "  <tbody>\n",
       "    <tr>\n",
       "      <th>0</th>\n",
       "      <td>20</td>\n",
       "      <td>([DecisionTreeRegressor(max_depth=3, max_featu...</td>\n",
       "      <td>StandardScaler()</td>\n",
       "      <td>0.597333</td>\n",
       "    </tr>\n",
       "    <tr>\n",
       "      <th>1</th>\n",
       "      <td>10</td>\n",
       "      <td>([DecisionTreeRegressor(criterion='friedman_ms...</td>\n",
       "      <td>StandardScaler()</td>\n",
       "      <td>0.595402</td>\n",
       "    </tr>\n",
       "    <tr>\n",
       "      <th>2</th>\n",
       "      <td>15</td>\n",
       "      <td>([DecisionTreeRegressor(max_depth=5, max_featu...</td>\n",
       "      <td>StandardScaler()</td>\n",
       "      <td>0.590123</td>\n",
       "    </tr>\n",
       "    <tr>\n",
       "      <th>3</th>\n",
       "      <td>5</td>\n",
       "      <td>([DecisionTreeRegressor(max_depth=5, max_featu...</td>\n",
       "      <td>StandardScaler()</td>\n",
       "      <td>0.563441</td>\n",
       "    </tr>\n",
       "    <tr>\n",
       "      <th>4</th>\n",
       "      <td>18</td>\n",
       "      <td>([DecisionTreeRegressor(max_depth=3, max_featu...</td>\n",
       "      <td>StandardScaler()</td>\n",
       "      <td>0.534884</td>\n",
       "    </tr>\n",
       "  </tbody>\n",
       "</table>\n",
       "</div>"
      ],
      "text/plain": [
       "   Window                                              Model  \\\n",
       "0      20  ([DecisionTreeRegressor(max_depth=3, max_featu...   \n",
       "1      10  ([DecisionTreeRegressor(criterion='friedman_ms...   \n",
       "2      15  ([DecisionTreeRegressor(max_depth=5, max_featu...   \n",
       "3       5  ([DecisionTreeRegressor(max_depth=5, max_featu...   \n",
       "4      18  ([DecisionTreeRegressor(max_depth=3, max_featu...   \n",
       "\n",
       "             Scaler  Accuracy  \n",
       "0  StandardScaler()  0.597333  \n",
       "1  StandardScaler()  0.595402  \n",
       "2  StandardScaler()  0.590123  \n",
       "3  StandardScaler()  0.563441  \n",
       "4  StandardScaler()  0.534884  "
      ]
     },
     "execution_count": 7,
     "metadata": {},
     "output_type": "execute_result"
    }
   ],
   "source": [
    "gb_models = pd.DataFrame(models).sort_values(by=['Accuracy'], ascending=False).reset_index(drop=True)\n",
    "gb_models"
   ]
  },
  {
   "cell_type": "code",
   "execution_count": 6,
   "id": "1340a899",
   "metadata": {},
   "outputs": [],
   "source": [
    "import joblib"
   ]
  },
  {
   "cell_type": "code",
   "execution_count": 9,
   "id": "319086be",
   "metadata": {},
   "outputs": [
    {
     "name": "stdout",
     "output_type": "stream",
     "text": [
      "Best Model by Accuracy\n",
      "Window: 20\n",
      "Accuracy: 0.5973333333333334\n"
     ]
    }
   ],
   "source": [
    "model = gb_models.iloc[0]['Model']\n",
    "scaler = gb_models.iloc[0]['Scaler']\n",
    "print('Best Model by Accuracy')\n",
    "print(f'Window: {gb_models.iloc[0][\"Window\"]}')\n",
    "print(f'Accuracy: {gb_models.iloc[0][\"Accuracy\"]}')"
   ]
  },
  {
   "cell_type": "code",
   "execution_count": 10,
   "id": "bce9308e",
   "metadata": {},
   "outputs": [
    {
     "data": {
      "text/plain": [
       "['Scalers/GB.bin']"
      ]
     },
     "execution_count": 10,
     "metadata": {},
     "output_type": "execute_result"
    }
   ],
   "source": [
    "file = 'TrainedModels/GB_Model.pkl'\n",
    "scaler_file = 'Scalers/GB.bin'\n",
    "joblib.dump(model, file)\n",
    "joblib.dump(scaler, scaler_file, compress=True)"
   ]
  }
 ],
 "metadata": {
  "kernelspec": {
   "display_name": "Python 3 (ipykernel)",
   "language": "python",
   "name": "python3"
  },
  "language_info": {
   "codemirror_mode": {
    "name": "ipython",
    "version": 3
   },
   "file_extension": ".py",
   "mimetype": "text/x-python",
   "name": "python",
   "nbconvert_exporter": "python",
   "pygments_lexer": "ipython3",
   "version": "3.9.13"
  }
 },
 "nbformat": 4,
 "nbformat_minor": 5
}
