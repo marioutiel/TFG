{
 "cells": [
  {
   "cell_type": "code",
   "execution_count": 1,
   "id": "43280f8c",
   "metadata": {},
   "outputs": [],
   "source": [
    "import os\n",
    "os.chdir('..')"
   ]
  },
  {
   "cell_type": "code",
   "execution_count": 2,
   "id": "9ed743c3",
   "metadata": {},
   "outputs": [],
   "source": [
    "from team_functions import *"
   ]
  },
  {
   "cell_type": "code",
   "execution_count": 3,
   "id": "8ec958dd",
   "metadata": {},
   "outputs": [
    {
     "name": "stdout",
     "output_type": "stream",
     "text": [
      "Today is: 2024-03-11\n"
     ]
    }
   ],
   "source": [
    "today = date.today()\n",
    "print(f'Today is: {today}')"
   ]
  },
  {
   "cell_type": "code",
   "execution_count": 4,
   "id": "ae69ad67",
   "metadata": {},
   "outputs": [],
   "source": [
    "last_games = pd.read_excel('Predictions/games_odds.xlsx', 'Tonight')\n",
    "prev_games = pd.read_excel('Predictions/games_odds.xlsx', 'Previous')"
   ]
  },
  {
   "cell_type": "code",
   "execution_count": 5,
   "id": "1ad8e630",
   "metadata": {},
   "outputs": [],
   "source": [
    "options = Options()\n",
    "options.add_argument('--headless')\n",
    "driver = Firefox(options=options)"
   ]
  },
  {
   "cell_type": "code",
   "execution_count": 6,
   "id": "a88c0bc7",
   "metadata": {},
   "outputs": [],
   "source": [
    "url = 'https://www.basketball-reference.com/boxscores/'\n",
    "soup = getSoup(url, driver=driver)"
   ]
  },
  {
   "cell_type": "code",
   "execution_count": 7,
   "id": "0708cd9c",
   "metadata": {},
   "outputs": [],
   "source": [
    "summaries = soup.find('div', {'class': 'game_summaries'})\n",
    "games = summaries.findAll('table', {'class': 'teams'})\n",
    "\n",
    "games_df = []\n",
    "for idx, game in enumerate(games):\n",
    "    loser = game.find('tr', {'class': 'loser'}).find('td').find('a').get('href').split('/')[2]\n",
    "    winner = game.find('tr', {'class': 'winner'}).find('td').find('a').get('href').split('/')[2]\n",
    "    \n",
    "    game_row = {'Winner': winner, 'Loser': loser}\n",
    "    games_df.append(game_row)\n",
    "    \n",
    "games_df = pd.DataFrame(games_df)"
   ]
  },
  {
   "cell_type": "code",
   "execution_count": 10,
   "id": "4d5c9388",
   "metadata": {},
   "outputs": [],
   "source": [
    "results = []\n",
    "for team in last_games['visitor']:\n",
    "    if team in list(games_df['Winner']):\n",
    "        results.append(1)\n",
    "    elif team in list(games_df['Loser']):\n",
    "        results.append(0)\n",
    "    else:\n",
    "        print(f'Error checking results of team: {team}')\n",
    "\n",
    "last_games['Results'] = np.array(results)"
   ]
  },
  {
   "cell_type": "code",
   "execution_count": 11,
   "id": "55353e92",
   "metadata": {},
   "outputs": [
    {
     "data": {
      "text/html": [
       "<div>\n",
       "<style scoped>\n",
       "    .dataframe tbody tr th:only-of-type {\n",
       "        vertical-align: middle;\n",
       "    }\n",
       "\n",
       "    .dataframe tbody tr th {\n",
       "        vertical-align: top;\n",
       "    }\n",
       "\n",
       "    .dataframe thead th {\n",
       "        text-align: right;\n",
       "    }\n",
       "</style>\n",
       "<table border=\"1\" class=\"dataframe\">\n",
       "  <thead>\n",
       "    <tr style=\"text-align: right;\">\n",
       "      <th></th>\n",
       "      <th>date</th>\n",
       "      <th>visitor</th>\n",
       "      <th>local</th>\n",
       "      <th>v_line</th>\n",
       "      <th>l_line</th>\n",
       "      <th>Results</th>\n",
       "    </tr>\n",
       "  </thead>\n",
       "  <tbody>\n",
       "    <tr>\n",
       "      <th>0</th>\n",
       "      <td>2024-03-09</td>\n",
       "      <td>CHI</td>\n",
       "      <td>LAC</td>\n",
       "      <td>3.200000</td>\n",
       "      <td>1.370370</td>\n",
       "      <td>0</td>\n",
       "    </tr>\n",
       "    <tr>\n",
       "      <th>1</th>\n",
       "      <td>2024-03-09</td>\n",
       "      <td>DAL</td>\n",
       "      <td>DET</td>\n",
       "      <td>1.327869</td>\n",
       "      <td>3.450000</td>\n",
       "      <td>1</td>\n",
       "    </tr>\n",
       "    <tr>\n",
       "      <th>2</th>\n",
       "      <td>2024-03-09</td>\n",
       "      <td>BRK</td>\n",
       "      <td>CHO</td>\n",
       "      <td>1.420168</td>\n",
       "      <td>2.950000</td>\n",
       "      <td>0</td>\n",
       "    </tr>\n",
       "    <tr>\n",
       "      <th>3</th>\n",
       "      <td>2024-03-09</td>\n",
       "      <td>BOS</td>\n",
       "      <td>PHO</td>\n",
       "      <td>1.458716</td>\n",
       "      <td>2.800000</td>\n",
       "      <td>1</td>\n",
       "    </tr>\n",
       "    <tr>\n",
       "      <th>4</th>\n",
       "      <td>2024-03-09</td>\n",
       "      <td>SAS</td>\n",
       "      <td>GSW</td>\n",
       "      <td>4.600000</td>\n",
       "      <td>1.212766</td>\n",
       "      <td>1</td>\n",
       "    </tr>\n",
       "    <tr>\n",
       "      <th>5</th>\n",
       "      <td>2024-03-09</td>\n",
       "      <td>UTA</td>\n",
       "      <td>DEN</td>\n",
       "      <td>6.500000</td>\n",
       "      <td>1.125000</td>\n",
       "      <td>0</td>\n",
       "    </tr>\n",
       "    <tr>\n",
       "      <th>6</th>\n",
       "      <td>2024-03-09</td>\n",
       "      <td>TOR</td>\n",
       "      <td>POR</td>\n",
       "      <td>1.704225</td>\n",
       "      <td>2.200000</td>\n",
       "      <td>0</td>\n",
       "    </tr>\n",
       "  </tbody>\n",
       "</table>\n",
       "</div>"
      ],
      "text/plain": [
       "        date visitor local    v_line    l_line  Results\n",
       "0 2024-03-09     CHI   LAC  3.200000  1.370370        0\n",
       "1 2024-03-09     DAL   DET  1.327869  3.450000        1\n",
       "2 2024-03-09     BRK   CHO  1.420168  2.950000        0\n",
       "3 2024-03-09     BOS   PHO  1.458716  2.800000        1\n",
       "4 2024-03-09     SAS   GSW  4.600000  1.212766        1\n",
       "5 2024-03-09     UTA   DEN  6.500000  1.125000        0\n",
       "6 2024-03-09     TOR   POR  1.704225  2.200000        0"
      ]
     },
     "execution_count": 11,
     "metadata": {},
     "output_type": "execute_result"
    }
   ],
   "source": [
    "last_games"
   ]
  },
  {
   "cell_type": "code",
   "execution_count": 12,
   "id": "14eb3bd1",
   "metadata": {},
   "outputs": [
    {
     "data": {
      "text/html": [
       "<div>\n",
       "<style scoped>\n",
       "    .dataframe tbody tr th:only-of-type {\n",
       "        vertical-align: middle;\n",
       "    }\n",
       "\n",
       "    .dataframe tbody tr th {\n",
       "        vertical-align: top;\n",
       "    }\n",
       "\n",
       "    .dataframe thead th {\n",
       "        text-align: right;\n",
       "    }\n",
       "</style>\n",
       "<table border=\"1\" class=\"dataframe\">\n",
       "  <thead>\n",
       "    <tr style=\"text-align: right;\">\n",
       "      <th></th>\n",
       "      <th>date</th>\n",
       "      <th>visitor</th>\n",
       "      <th>local</th>\n",
       "      <th>v_line</th>\n",
       "      <th>l_line</th>\n",
       "      <th>Results</th>\n",
       "    </tr>\n",
       "  </thead>\n",
       "  <tbody>\n",
       "    <tr>\n",
       "      <th>201</th>\n",
       "      <td>2024-03-08</td>\n",
       "      <td>MIN</td>\n",
       "      <td>CLE</td>\n",
       "      <td>1.952381</td>\n",
       "      <td>1.869565</td>\n",
       "      <td>0</td>\n",
       "    </tr>\n",
       "    <tr>\n",
       "      <th>202</th>\n",
       "      <td>2024-03-08</td>\n",
       "      <td>MIA</td>\n",
       "      <td>OKC</td>\n",
       "      <td>3.850000</td>\n",
       "      <td>1.277778</td>\n",
       "      <td>0</td>\n",
       "    </tr>\n",
       "    <tr>\n",
       "      <th>203</th>\n",
       "      <td>2024-03-08</td>\n",
       "      <td>ATL</td>\n",
       "      <td>MEM</td>\n",
       "      <td>1.704225</td>\n",
       "      <td>2.200000</td>\n",
       "      <td>1</td>\n",
       "    </tr>\n",
       "    <tr>\n",
       "      <th>204</th>\n",
       "      <td>2024-03-08</td>\n",
       "      <td>MIL</td>\n",
       "      <td>LAL</td>\n",
       "      <td>1.769231</td>\n",
       "      <td>2.100000</td>\n",
       "      <td>0</td>\n",
       "    </tr>\n",
       "    <tr>\n",
       "      <th>205</th>\n",
       "      <td>2024-03-08</td>\n",
       "      <td>HOU</td>\n",
       "      <td>POR</td>\n",
       "      <td>1.444444</td>\n",
       "      <td>2.850000</td>\n",
       "      <td>1</td>\n",
       "    </tr>\n",
       "  </tbody>\n",
       "</table>\n",
       "</div>"
      ],
      "text/plain": [
       "          date visitor local    v_line    l_line  Results\n",
       "201 2024-03-08     MIN   CLE  1.952381  1.869565        0\n",
       "202 2024-03-08     MIA   OKC  3.850000  1.277778        0\n",
       "203 2024-03-08     ATL   MEM  1.704225  2.200000        1\n",
       "204 2024-03-08     MIL   LAL  1.769231  2.100000        0\n",
       "205 2024-03-08     HOU   POR  1.444444  2.850000        1"
      ]
     },
     "execution_count": 12,
     "metadata": {},
     "output_type": "execute_result"
    }
   ],
   "source": [
    "prev_games.tail()"
   ]
  },
  {
   "cell_type": "code",
   "execution_count": 13,
   "id": "94028d5c",
   "metadata": {},
   "outputs": [],
   "source": [
    "prev_games = pd.concat([prev_games, last_games])"
   ]
  },
  {
   "cell_type": "code",
   "execution_count": 14,
   "id": "05d32f72",
   "metadata": {},
   "outputs": [],
   "source": [
    "url = 'https://sportsbook.draftkings.com/leagues/basketball/nba'"
   ]
  },
  {
   "cell_type": "code",
   "execution_count": 15,
   "id": "a300625b",
   "metadata": {},
   "outputs": [],
   "source": [
    "driver.get(url)\n",
    "\n",
    "html = driver.page_source\n",
    "soup = bs(html, 'lxml')\n",
    "\n",
    "driver.close()"
   ]
  },
  {
   "cell_type": "code",
   "execution_count": 16,
   "id": "1d39bc7a",
   "metadata": {},
   "outputs": [],
   "source": [
    "def american_to_decimal(american):\n",
    "    '''\n",
    "    This functions transform an american system odd (e.g. -120) to a decimal system (e.g 1.8)\n",
    "    \n",
    "    INPUTS:\n",
    "    player: row containing player stats\n",
    "    \n",
    "    OUTPUT:\n",
    "    new_player: copy of the player df input with the updated Odd value in Decimal System\n",
    "    '''\n",
    "    # Check if the value is positive or negative (e.g. Odd = +100 or Odd = -120)\n",
    "    # Transform it to decimal with the given formula\n",
    "    if american > 0:\n",
    "        decimal = (american/100) + 1\n",
    "    else:\n",
    "        decimal = (100/abs(american)) + 1\n",
    "    \n",
    "    return decimal"
   ]
  },
  {
   "cell_type": "code",
   "execution_count": 17,
   "id": "4674e94f",
   "metadata": {
    "scrolled": false
   },
   "outputs": [
    {
     "data": {
      "text/html": [
       "<div>\n",
       "<style scoped>\n",
       "    .dataframe tbody tr th:only-of-type {\n",
       "        vertical-align: middle;\n",
       "    }\n",
       "\n",
       "    .dataframe tbody tr th {\n",
       "        vertical-align: top;\n",
       "    }\n",
       "\n",
       "    .dataframe thead th {\n",
       "        text-align: right;\n",
       "    }\n",
       "</style>\n",
       "<table border=\"1\" class=\"dataframe\">\n",
       "  <thead>\n",
       "    <tr style=\"text-align: right;\">\n",
       "      <th></th>\n",
       "      <th>date</th>\n",
       "      <th>visitor</th>\n",
       "      <th>local</th>\n",
       "      <th>v_line</th>\n",
       "      <th>l_line</th>\n",
       "    </tr>\n",
       "  </thead>\n",
       "  <tbody>\n",
       "    <tr>\n",
       "      <th>0</th>\n",
       "      <td>2024-03-11</td>\n",
       "      <td>CHO</td>\n",
       "      <td>DET</td>\n",
       "      <td>2.300000</td>\n",
       "      <td>1.645161</td>\n",
       "    </tr>\n",
       "    <tr>\n",
       "      <th>1</th>\n",
       "      <td>2024-03-11</td>\n",
       "      <td>PHO</td>\n",
       "      <td>CLE</td>\n",
       "      <td>1.420168</td>\n",
       "      <td>2.950000</td>\n",
       "    </tr>\n",
       "    <tr>\n",
       "      <th>2</th>\n",
       "      <td>2024-03-11</td>\n",
       "      <td>DAL</td>\n",
       "      <td>CHI</td>\n",
       "      <td>1.571429</td>\n",
       "      <td>2.450000</td>\n",
       "    </tr>\n",
       "    <tr>\n",
       "      <th>3</th>\n",
       "      <td>2024-03-11</td>\n",
       "      <td>GSW</td>\n",
       "      <td>SAS</td>\n",
       "      <td>1.540541</td>\n",
       "      <td>2.540000</td>\n",
       "    </tr>\n",
       "    <tr>\n",
       "      <th>4</th>\n",
       "      <td>2024-03-11</td>\n",
       "      <td>TOR</td>\n",
       "      <td>DEN</td>\n",
       "      <td>8.500000</td>\n",
       "      <td>1.083333</td>\n",
       "    </tr>\n",
       "    <tr>\n",
       "      <th>5</th>\n",
       "      <td>2024-03-11</td>\n",
       "      <td>BOS</td>\n",
       "      <td>POR</td>\n",
       "      <td>1.227273</td>\n",
       "      <td>4.400000</td>\n",
       "    </tr>\n",
       "  </tbody>\n",
       "</table>\n",
       "</div>"
      ],
      "text/plain": [
       "         date visitor local    v_line    l_line\n",
       "0  2024-03-11     CHO   DET  2.300000  1.645161\n",
       "1  2024-03-11     PHO   CLE  1.420168  2.950000\n",
       "2  2024-03-11     DAL   CHI  1.571429  2.450000\n",
       "3  2024-03-11     GSW   SAS  1.540541  2.540000\n",
       "4  2024-03-11     TOR   DEN  8.500000  1.083333\n",
       "5  2024-03-11     BOS   POR  1.227273  4.400000"
      ]
     },
     "execution_count": 17,
     "metadata": {},
     "output_type": "execute_result"
    }
   ],
   "source": [
    "tables = soup.findAll('tbody', {'class': 'sportsbook-table__body'})\n",
    "rows = []\n",
    "for table in tables:\n",
    "    for row in table.findAll('tr'):\n",
    "        rows.append(row)\n",
    "games, game, idx = [], {'date': today, 'visitor': '', 'local': '', 'v_line': 0, 'l_line': 0}, 0\n",
    "for row in rows:\n",
    "    team_name = row.find('div', {'class': 'event-cell__name-text'}).text.split(' ')\n",
    "    if len(team_name[0]) == 3:\n",
    "        team_id = team_name[0]\n",
    "    else:\n",
    "        team_id = team_name[0] + team_name[1][0]\n",
    "    team_id = team_id.replace('BKN', 'BRK').replace('CHA', 'CHO')\n",
    "    odd = row.find('span', {'class': 'sportsbook-odds american no-margin default-color'}).text.replace('−', '-')\n",
    "    \n",
    "    if idx == 0:\n",
    "        game['visitor'] = team_id\n",
    "        game['v_line'] = american_to_decimal(int(odd))\n",
    "        idx = 1\n",
    "        \n",
    "    elif idx == 1:\n",
    "        game['local'] = team_id\n",
    "        game['l_line'] = american_to_decimal(int(odd))\n",
    "        idx = 0\n",
    "        \n",
    "        games.append(game)\n",
    "        game = {'date': today, 'visitor': '', 'local': '', 'v_line': 0, 'l_line': 0}\n",
    "    \n",
    "games_df = pd.DataFrame(games)\n",
    "games_df"
   ]
  },
  {
   "cell_type": "code",
   "execution_count": 18,
   "id": "25186faa",
   "metadata": {},
   "outputs": [],
   "source": [
    "with pd.ExcelWriter('Predictions/games_odds.xlsx') as writer:  \n",
    "    games_df.to_excel(writer, sheet_name='Tonight', index=0)\n",
    "    prev_games.to_excel(writer, sheet_name='Previous', index=0)"
   ]
  }
 ],
 "metadata": {
  "kernelspec": {
   "display_name": "Python 3 (ipykernel)",
   "language": "python",
   "name": "python3"
  },
  "language_info": {
   "codemirror_mode": {
    "name": "ipython",
    "version": 3
   },
   "file_extension": ".py",
   "mimetype": "text/x-python",
   "name": "python",
   "nbconvert_exporter": "python",
   "pygments_lexer": "ipython3",
   "version": "3.9.13"
  }
 },
 "nbformat": 4,
 "nbformat_minor": 5
}
