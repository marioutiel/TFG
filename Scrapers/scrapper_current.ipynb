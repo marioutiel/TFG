{
 "cells": [
  {
   "cell_type": "code",
   "execution_count": null,
   "id": "dced7f44",
   "metadata": {},
   "outputs": [],
   "source": [
    "import os\n",
    "os.chdir('..')"
   ]
  },
  {
   "cell_type": "code",
   "execution_count": 1,
   "id": "79cf67e9",
   "metadata": {},
   "outputs": [],
   "source": [
    "from team_functions import *"
   ]
  },
  {
   "cell_type": "code",
   "execution_count": 2,
   "id": "c48bc0f5",
   "metadata": {},
   "outputs": [],
   "source": [
    "teams = [team[:3] for team in os.listdir('data/CurrentSeason')]"
   ]
  },
  {
   "cell_type": "code",
   "execution_count": 3,
   "id": "04ddc22a",
   "metadata": {},
   "outputs": [],
   "source": [
    "options = Options()\n",
    "options.add_argument('--headless')\n",
    "driver = Firefox(options=options)"
   ]
  },
  {
   "cell_type": "code",
   "execution_count": 4,
   "id": "7ad37acd",
   "metadata": {},
   "outputs": [
    {
     "name": "stdout",
     "output_type": "stream",
     "text": [
      "[==============================] (100.00%)\r"
     ]
    }
   ],
   "source": [
    "initial_url = 'https://basketball-reference.com/teams/TID/2024_games.html'\n",
    "print(f'[{\" \"*(len(teams))}] ({(0/len(teams))*100:.2f}%)', end='\\r')\n",
    "for idx, team in enumerate(teams):\n",
    "    team_url = initial_url.replace('TID', team)\n",
    "    team_soup = getSoup(team_url, driver=driver, timer=3)\n",
    "    games_played, next_games = getTeamCurrentSeason(driver, team_soup, team)\n",
    "    with pd.ExcelWriter(f'data/CurrentSeason/{team}.xlsx') as writer:  \n",
    "        games_played.to_excel(writer, sheet_name='Games', index=0)\n",
    "        next_games.to_excel(writer, sheet_name='Next', index=0)\n",
    "    print(f'[{\"=\"*(idx+1)}{\" \"*(len(teams)-idx-1)}] ({((idx+1)/len(teams))*100:.2f}%)', end='\\r')"
   ]
  },
  {
   "cell_type": "code",
   "execution_count": 5,
   "id": "20ce18a7",
   "metadata": {},
   "outputs": [],
   "source": [
    "driver.close()"
   ]
  }
 ],
 "metadata": {
  "kernelspec": {
   "display_name": "Python 3 (ipykernel)",
   "language": "python",
   "name": "python3"
  },
  "language_info": {
   "codemirror_mode": {
    "name": "ipython",
    "version": 3
   },
   "file_extension": ".py",
   "mimetype": "text/x-python",
   "name": "python",
   "nbconvert_exporter": "python",
   "pygments_lexer": "ipython3",
   "version": "3.9.13"
  }
 },
 "nbformat": 4,
 "nbformat_minor": 5
}
