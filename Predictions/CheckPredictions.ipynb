{
 "cells": [
  {
   "cell_type": "code",
   "execution_count": 1,
   "id": "6d5b6b7a",
   "metadata": {},
   "outputs": [],
   "source": [
    "import os\n",
    "os.chdir('..')"
   ]
  },
  {
   "cell_type": "code",
   "execution_count": 2,
   "id": "e5edfc9a",
   "metadata": {},
   "outputs": [],
   "source": [
    "from team_functions import *"
   ]
  },
  {
   "cell_type": "code",
   "execution_count": 3,
   "id": "33f48a8b",
   "metadata": {},
   "outputs": [],
   "source": [
    "options = Options()\n",
    "options.add_argument('--headless')\n",
    "driver = Firefox(options=options)"
   ]
  },
  {
   "cell_type": "code",
   "execution_count": 4,
   "id": "d8949b05",
   "metadata": {},
   "outputs": [],
   "source": [
    "url = 'https://www.basketball-reference.com/boxscores/'\n",
    "soup = getSoup(url, driver=driver)\n",
    "driver.close()"
   ]
  },
  {
   "cell_type": "code",
   "execution_count": 5,
   "id": "b922bbe4",
   "metadata": {
    "scrolled": false
   },
   "outputs": [],
   "source": [
    "summaries = soup.find('div', {'class': 'game_summaries'})\n",
    "games = summaries.findAll('table', {'class': 'teams'})\n",
    "\n",
    "games_df = []\n",
    "for idx, game in enumerate(games):\n",
    "    loser = game.find('tr', {'class': 'loser'}).find('td').find('a').get('href').split('/')[2]\n",
    "    winner = game.find('tr', {'class': 'winner'}).find('td').find('a').get('href').split('/')[2]\n",
    "    \n",
    "    game_row = {'Winner': winner, 'Loser': loser}\n",
    "    games_df.append(game_row)\n",
    "    \n",
    "games_df = pd.DataFrame(games_df)"
   ]
  },
  {
   "cell_type": "code",
   "execution_count": 6,
   "id": "b4e0cc6a",
   "metadata": {},
   "outputs": [
    {
     "data": {
      "text/html": [
       "<div>\n",
       "<style scoped>\n",
       "    .dataframe tbody tr th:only-of-type {\n",
       "        vertical-align: middle;\n",
       "    }\n",
       "\n",
       "    .dataframe tbody tr th {\n",
       "        vertical-align: top;\n",
       "    }\n",
       "\n",
       "    .dataframe thead th {\n",
       "        text-align: right;\n",
       "    }\n",
       "</style>\n",
       "<table border=\"1\" class=\"dataframe\">\n",
       "  <thead>\n",
       "    <tr style=\"text-align: right;\">\n",
       "      <th></th>\n",
       "      <th>Winner</th>\n",
       "      <th>Loser</th>\n",
       "    </tr>\n",
       "  </thead>\n",
       "  <tbody>\n",
       "    <tr>\n",
       "      <th>0</th>\n",
       "      <td>LAC</td>\n",
       "      <td>ATL</td>\n",
       "    </tr>\n",
       "    <tr>\n",
       "      <th>1</th>\n",
       "      <td>GSW</td>\n",
       "      <td>BRK</td>\n",
       "    </tr>\n",
       "    <tr>\n",
       "      <th>2</th>\n",
       "      <td>LAL</td>\n",
       "      <td>CHO</td>\n",
       "    </tr>\n",
       "    <tr>\n",
       "      <th>3</th>\n",
       "      <td>CLE</td>\n",
       "      <td>SAC</td>\n",
       "    </tr>\n",
       "    <tr>\n",
       "      <th>4</th>\n",
       "      <td>NOP</td>\n",
       "      <td>TOR</td>\n",
       "    </tr>\n",
       "    <tr>\n",
       "      <th>5</th>\n",
       "      <td>DAL</td>\n",
       "      <td>PHI</td>\n",
       "    </tr>\n",
       "  </tbody>\n",
       "</table>\n",
       "</div>"
      ],
      "text/plain": [
       "  Winner Loser\n",
       "0    LAC   ATL\n",
       "1    GSW   BRK\n",
       "2    LAL   CHO\n",
       "3    CLE   SAC\n",
       "4    NOP   TOR\n",
       "5    DAL   PHI"
      ]
     },
     "execution_count": 6,
     "metadata": {},
     "output_type": "execute_result"
    }
   ],
   "source": [
    "games_df"
   ]
  },
  {
   "cell_type": "code",
   "execution_count": 8,
   "id": "990805d5",
   "metadata": {},
   "outputs": [],
   "source": [
    "def checkPredictions(games_df, model_name='LR'):\n",
    "    model_preds = pd.read_excel(f'Predictions/ModelsPredictions/{model_name}.xlsx')\n",
    "    \n",
    "    results = []\n",
    "    for team in model_preds['visitor']:\n",
    "        if team in list(games_df['Winner']):\n",
    "            results.append(1)\n",
    "        elif team in list(games_df['Loser']):\n",
    "            results.append(0)\n",
    "        else:\n",
    "            print(f'Error checking results of team: {team}')\n",
    "\n",
    "    model_preds['Results'] = np.array(results)\n",
    "    model_preds['Checking'] = model_preds['Prediction'] == model_preds['Results']\n",
    "    return model_preds"
   ]
  }
 ],
 "metadata": {
  "kernelspec": {
   "display_name": "Python 3 (ipykernel)",
   "language": "python",
   "name": "python3"
  },
  "language_info": {
   "codemirror_mode": {
    "name": "ipython",
    "version": 3
   },
   "file_extension": ".py",
   "mimetype": "text/x-python",
   "name": "python",
   "nbconvert_exporter": "python",
   "pygments_lexer": "ipython3",
   "version": "3.9.13"
  }
 },
 "nbformat": 4,
 "nbformat_minor": 5
}
