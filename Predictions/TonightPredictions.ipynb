{
 "cells": [
  {
   "cell_type": "code",
   "execution_count": 1,
   "id": "459d3cd2",
   "metadata": {},
   "outputs": [],
   "source": [
    "import pandas as pd"
   ]
  },
  {
   "cell_type": "code",
   "execution_count": 2,
   "id": "a9c150d8",
   "metadata": {},
   "outputs": [],
   "source": [
    "tonight_odds = pd.read_excel('games_odds.xlsx', sheet_name='Tonight')\n",
    "prev_odds = pd.read_excel('games_odds.xlsx', sheet_name='Previous')"
   ]
  },
  {
   "cell_type": "code",
   "execution_count": 3,
   "id": "a66e5e52",
   "metadata": {},
   "outputs": [],
   "source": [
    "import os\n",
    "os.chdir('..')\n",
    "from team_functions import dataPrep, getTeamRollingSeason, mapTeamID"
   ]
  },
  {
   "cell_type": "code",
   "execution_count": 4,
   "id": "f633eb18",
   "metadata": {
    "scrolled": true
   },
   "outputs": [],
   "source": [
    "games_to_pred = []\n",
    "teams, opps = tonight_odds['visitor'], tonight_odds['local']\n",
    "for team, opp in zip(teams, opps):\n",
    "    team_row = {}\n",
    "    team_df = pd.read_excel(f'data/CurrentSeason/{team}.xlsx')\n",
    "    \n",
    "    team_row['Game'] = team_df['Game'].iloc[-1] + 1\n",
    "    team_row['Date'] = tonight_odds.loc[tonight_odds['visitor'] == team, 'date'].iloc[0]\n",
    "    team_row['Streak'] = team_df['Streak'].iloc[-1]\n",
    "\n",
    "    team_cols = ['Pts', 'Pace', 'eFG', 'TOV', 'ORB', 'FTR', 'ORT']\n",
    "    for col in team_cols:\n",
    "        team_row[col] = team_df[col].mean()\n",
    "\n",
    "    opp_df = pd.read_excel(f'data/CurrentSeason/{opp}.xlsx')\n",
    "    team_row['OppID'] = mapTeamID(opp)\n",
    "    \n",
    "    opp_cols = ['Pts', 'eFG', 'TOV', 'ORB', 'FTR', 'ORT']\n",
    "    for col in opp_cols:\n",
    "        team_row['Opp'+col] = opp_df[col].mean()\n",
    "        \n",
    "    team_row['Location'] = 0\n",
    "    \n",
    "    team_row['Month'] = team_row['Date'].month\n",
    "    team_row['DayOfWeek'] = team_row['Date'].weekday()\n",
    "    team_row['DaysOfRest'] = (team_row['Date'] - team_df['Date'].iloc[-1]).days\n",
    "    \n",
    "    team_row['TeamID'] = mapTeamID(team)\n",
    "    team_row['Season'] = 2024\n",
    "    \n",
    "    games_to_pred.append(team_row)\n",
    "    \n",
    "games_df = pd.DataFrame(games_to_pred)"
   ]
  },
  {
   "cell_type": "code",
   "execution_count": 5,
   "id": "68121d0f",
   "metadata": {},
   "outputs": [
    {
     "data": {
      "text/html": [
       "<div>\n",
       "<style scoped>\n",
       "    .dataframe tbody tr th:only-of-type {\n",
       "        vertical-align: middle;\n",
       "    }\n",
       "\n",
       "    .dataframe tbody tr th {\n",
       "        vertical-align: top;\n",
       "    }\n",
       "\n",
       "    .dataframe thead th {\n",
       "        text-align: right;\n",
       "    }\n",
       "</style>\n",
       "<table border=\"1\" class=\"dataframe\">\n",
       "  <thead>\n",
       "    <tr style=\"text-align: right;\">\n",
       "      <th></th>\n",
       "      <th>Game</th>\n",
       "      <th>Date</th>\n",
       "      <th>Streak</th>\n",
       "      <th>Pts</th>\n",
       "      <th>Pace</th>\n",
       "      <th>eFG</th>\n",
       "      <th>TOV</th>\n",
       "      <th>ORB</th>\n",
       "      <th>FTR</th>\n",
       "      <th>ORT</th>\n",
       "      <th>...</th>\n",
       "      <th>OppTOV</th>\n",
       "      <th>OppORB</th>\n",
       "      <th>OppFTR</th>\n",
       "      <th>OppORT</th>\n",
       "      <th>Location</th>\n",
       "      <th>Month</th>\n",
       "      <th>DayOfWeek</th>\n",
       "      <th>DaysOfRest</th>\n",
       "      <th>TeamID</th>\n",
       "      <th>Season</th>\n",
       "    </tr>\n",
       "  </thead>\n",
       "  <tbody>\n",
       "    <tr>\n",
       "      <th>0</th>\n",
       "      <td>50</td>\n",
       "      <td>2024-02-04</td>\n",
       "      <td>2</td>\n",
       "      <td>111.571429</td>\n",
       "      <td>97.589796</td>\n",
       "      <td>0.530592</td>\n",
       "      <td>12.271429</td>\n",
       "      <td>25.975510</td>\n",
       "      <td>0.234000</td>\n",
       "      <td>113.614286</td>\n",
       "      <td>...</td>\n",
       "      <td>13.156250</td>\n",
       "      <td>25.106250</td>\n",
       "      <td>0.197437</td>\n",
       "      <td>112.595833</td>\n",
       "      <td>0</td>\n",
       "      <td>2</td>\n",
       "      <td>6</td>\n",
       "      <td>2</td>\n",
       "      <td>22</td>\n",
       "      <td>2024</td>\n",
       "    </tr>\n",
       "    <tr>\n",
       "      <th>1</th>\n",
       "      <td>50</td>\n",
       "      <td>2024-02-04</td>\n",
       "      <td>-1</td>\n",
       "      <td>116.877551</td>\n",
       "      <td>97.246939</td>\n",
       "      <td>0.567878</td>\n",
       "      <td>12.616327</td>\n",
       "      <td>25.004082</td>\n",
       "      <td>0.239592</td>\n",
       "      <td>119.616327</td>\n",
       "      <td>...</td>\n",
       "      <td>11.658333</td>\n",
       "      <td>19.639583</td>\n",
       "      <td>0.182208</td>\n",
       "      <td>112.156250</td>\n",
       "      <td>0</td>\n",
       "      <td>2</td>\n",
       "      <td>6</td>\n",
       "      <td>2</td>\n",
       "      <td>24</td>\n",
       "      <td>2024</td>\n",
       "    </tr>\n",
       "  </tbody>\n",
       "</table>\n",
       "<p>2 rows × 23 columns</p>\n",
       "</div>"
      ],
      "text/plain": [
       "   Game       Date  Streak         Pts       Pace       eFG        TOV  \\\n",
       "0    50 2024-02-04       2  111.571429  97.589796  0.530592  12.271429   \n",
       "1    50 2024-02-04      -1  116.877551  97.246939  0.567878  12.616327   \n",
       "\n",
       "         ORB       FTR         ORT  ...     OppTOV     OppORB    OppFTR  \\\n",
       "0  25.975510  0.234000  113.614286  ...  13.156250  25.106250  0.197437   \n",
       "1  25.004082  0.239592  119.616327  ...  11.658333  19.639583  0.182208   \n",
       "\n",
       "       OppORT  Location  Month  DayOfWeek  DaysOfRest  TeamID  Season  \n",
       "0  112.595833         0      2          6           2      22    2024  \n",
       "1  112.156250         0      2          6           2      24    2024  \n",
       "\n",
       "[2 rows x 23 columns]"
      ]
     },
     "execution_count": 5,
     "metadata": {},
     "output_type": "execute_result"
    }
   ],
   "source": [
    "games_df"
   ]
  },
  {
   "cell_type": "code",
   "execution_count": 6,
   "id": "d76ff170",
   "metadata": {},
   "outputs": [],
   "source": [
    "import joblib"
   ]
  },
  {
   "cell_type": "code",
   "execution_count": 7,
   "id": "29ba22d0",
   "metadata": {},
   "outputs": [],
   "source": [
    "def makeModelPredictions(games_df, odds_df, model_name='LR', show=True):\n",
    "    if model_name == 'LR':\n",
    "        model = joblib.load('Models/TrainedModels/LR_Model.pkl')\n",
    "        scaler = joblib.load('Models/Scalers/LR.bin')\n",
    "    elif model_name == 'RF':\n",
    "        model = joblib.load('Models/TrainedModels/RF_Model.pkl')\n",
    "        scaler = joblib.load('Models/Scalers/RF.bin')\n",
    "    elif model_name == 'GB':\n",
    "        model = joblib.load('Models/TrainedModels/GB_Model.pkl')\n",
    "        scaler = joblib.load('Models/Scalers/GB.bin')\n",
    "    elif model_name == 'SVM':\n",
    "        model = joblib.load('Models/TrainedModels/SVM_Model.pkl')\n",
    "        scaler = joblib.load('Models/Scalers/SVM.bin')\n",
    "    \n",
    "    scaled_df = scaler.transform(games_df.drop(columns=['Date']))\n",
    "    predictions = model.predict(scaled_df)\n",
    "    \n",
    "    odds_df['Predictions'] = predictions\n",
    "    if show:\n",
    "        print(f'Predictions made by: {model_name}')\n",
    "        display(odds_df)\n",
    "        \n",
    "    odds_df.to_excel(f'Predictions/ModelsPredictions/{model_name}.xlsx', index=0)"
   ]
  },
  {
   "cell_type": "code",
   "execution_count": 8,
   "id": "d98b6cd1",
   "metadata": {},
   "outputs": [
    {
     "name": "stdout",
     "output_type": "stream",
     "text": [
      "Predictions made by: LR\n"
     ]
    },
    {
     "data": {
      "text/html": [
       "<div>\n",
       "<style scoped>\n",
       "    .dataframe tbody tr th:only-of-type {\n",
       "        vertical-align: middle;\n",
       "    }\n",
       "\n",
       "    .dataframe tbody tr th {\n",
       "        vertical-align: top;\n",
       "    }\n",
       "\n",
       "    .dataframe thead th {\n",
       "        text-align: right;\n",
       "    }\n",
       "</style>\n",
       "<table border=\"1\" class=\"dataframe\">\n",
       "  <thead>\n",
       "    <tr style=\"text-align: right;\">\n",
       "      <th></th>\n",
       "      <th>date</th>\n",
       "      <th>visitor</th>\n",
       "      <th>local</th>\n",
       "      <th>v_line</th>\n",
       "      <th>l_line</th>\n",
       "      <th>Predictions</th>\n",
       "    </tr>\n",
       "  </thead>\n",
       "  <tbody>\n",
       "    <tr>\n",
       "      <th>0</th>\n",
       "      <td>2024-02-04</td>\n",
       "      <td>ORL</td>\n",
       "      <td>DET</td>\n",
       "      <td>1.359712</td>\n",
       "      <td>3.25</td>\n",
       "      <td>1</td>\n",
       "    </tr>\n",
       "    <tr>\n",
       "      <th>1</th>\n",
       "      <td>2024-02-04</td>\n",
       "      <td>PHO</td>\n",
       "      <td>WAS</td>\n",
       "      <td>1.160000</td>\n",
       "      <td>5.55</td>\n",
       "      <td>1</td>\n",
       "    </tr>\n",
       "  </tbody>\n",
       "</table>\n",
       "</div>"
      ],
      "text/plain": [
       "        date visitor local    v_line  l_line  Predictions\n",
       "0 2024-02-04     ORL   DET  1.359712    3.25            1\n",
       "1 2024-02-04     PHO   WAS  1.160000    5.55            1"
      ]
     },
     "metadata": {},
     "output_type": "display_data"
    }
   ],
   "source": [
    "makeModelPredictions(games_df, tonight_odds, 'LR')"
   ]
  },
  {
   "cell_type": "code",
   "execution_count": 9,
   "id": "1690a2df",
   "metadata": {},
   "outputs": [
    {
     "name": "stdout",
     "output_type": "stream",
     "text": [
      "Predictions made by: RF\n"
     ]
    },
    {
     "data": {
      "text/html": [
       "<div>\n",
       "<style scoped>\n",
       "    .dataframe tbody tr th:only-of-type {\n",
       "        vertical-align: middle;\n",
       "    }\n",
       "\n",
       "    .dataframe tbody tr th {\n",
       "        vertical-align: top;\n",
       "    }\n",
       "\n",
       "    .dataframe thead th {\n",
       "        text-align: right;\n",
       "    }\n",
       "</style>\n",
       "<table border=\"1\" class=\"dataframe\">\n",
       "  <thead>\n",
       "    <tr style=\"text-align: right;\">\n",
       "      <th></th>\n",
       "      <th>date</th>\n",
       "      <th>visitor</th>\n",
       "      <th>local</th>\n",
       "      <th>v_line</th>\n",
       "      <th>l_line</th>\n",
       "      <th>Predictions</th>\n",
       "    </tr>\n",
       "  </thead>\n",
       "  <tbody>\n",
       "    <tr>\n",
       "      <th>0</th>\n",
       "      <td>2024-02-04</td>\n",
       "      <td>ORL</td>\n",
       "      <td>DET</td>\n",
       "      <td>1.359712</td>\n",
       "      <td>3.25</td>\n",
       "      <td>0</td>\n",
       "    </tr>\n",
       "    <tr>\n",
       "      <th>1</th>\n",
       "      <td>2024-02-04</td>\n",
       "      <td>PHO</td>\n",
       "      <td>WAS</td>\n",
       "      <td>1.160000</td>\n",
       "      <td>5.55</td>\n",
       "      <td>1</td>\n",
       "    </tr>\n",
       "  </tbody>\n",
       "</table>\n",
       "</div>"
      ],
      "text/plain": [
       "        date visitor local    v_line  l_line  Predictions\n",
       "0 2024-02-04     ORL   DET  1.359712    3.25            0\n",
       "1 2024-02-04     PHO   WAS  1.160000    5.55            1"
      ]
     },
     "metadata": {},
     "output_type": "display_data"
    }
   ],
   "source": [
    "makeModelPredictions(games_df, tonight_odds, 'RF')"
   ]
  },
  {
   "cell_type": "code",
   "execution_count": 10,
   "id": "b0c42a1a",
   "metadata": {},
   "outputs": [
    {
     "name": "stdout",
     "output_type": "stream",
     "text": [
      "Predictions made by: GB\n"
     ]
    },
    {
     "data": {
      "text/html": [
       "<div>\n",
       "<style scoped>\n",
       "    .dataframe tbody tr th:only-of-type {\n",
       "        vertical-align: middle;\n",
       "    }\n",
       "\n",
       "    .dataframe tbody tr th {\n",
       "        vertical-align: top;\n",
       "    }\n",
       "\n",
       "    .dataframe thead th {\n",
       "        text-align: right;\n",
       "    }\n",
       "</style>\n",
       "<table border=\"1\" class=\"dataframe\">\n",
       "  <thead>\n",
       "    <tr style=\"text-align: right;\">\n",
       "      <th></th>\n",
       "      <th>date</th>\n",
       "      <th>visitor</th>\n",
       "      <th>local</th>\n",
       "      <th>v_line</th>\n",
       "      <th>l_line</th>\n",
       "      <th>Predictions</th>\n",
       "    </tr>\n",
       "  </thead>\n",
       "  <tbody>\n",
       "    <tr>\n",
       "      <th>0</th>\n",
       "      <td>2024-02-04</td>\n",
       "      <td>ORL</td>\n",
       "      <td>DET</td>\n",
       "      <td>1.359712</td>\n",
       "      <td>3.25</td>\n",
       "      <td>0</td>\n",
       "    </tr>\n",
       "    <tr>\n",
       "      <th>1</th>\n",
       "      <td>2024-02-04</td>\n",
       "      <td>PHO</td>\n",
       "      <td>WAS</td>\n",
       "      <td>1.160000</td>\n",
       "      <td>5.55</td>\n",
       "      <td>1</td>\n",
       "    </tr>\n",
       "  </tbody>\n",
       "</table>\n",
       "</div>"
      ],
      "text/plain": [
       "        date visitor local    v_line  l_line  Predictions\n",
       "0 2024-02-04     ORL   DET  1.359712    3.25            0\n",
       "1 2024-02-04     PHO   WAS  1.160000    5.55            1"
      ]
     },
     "metadata": {},
     "output_type": "display_data"
    }
   ],
   "source": [
    "makeModelPredictions(games_df, tonight_odds, 'GB')"
   ]
  },
  {
   "cell_type": "code",
   "execution_count": 11,
   "id": "5fcf6223",
   "metadata": {},
   "outputs": [
    {
     "name": "stdout",
     "output_type": "stream",
     "text": [
      "Predictions made by: SVM\n"
     ]
    },
    {
     "data": {
      "text/html": [
       "<div>\n",
       "<style scoped>\n",
       "    .dataframe tbody tr th:only-of-type {\n",
       "        vertical-align: middle;\n",
       "    }\n",
       "\n",
       "    .dataframe tbody tr th {\n",
       "        vertical-align: top;\n",
       "    }\n",
       "\n",
       "    .dataframe thead th {\n",
       "        text-align: right;\n",
       "    }\n",
       "</style>\n",
       "<table border=\"1\" class=\"dataframe\">\n",
       "  <thead>\n",
       "    <tr style=\"text-align: right;\">\n",
       "      <th></th>\n",
       "      <th>date</th>\n",
       "      <th>visitor</th>\n",
       "      <th>local</th>\n",
       "      <th>v_line</th>\n",
       "      <th>l_line</th>\n",
       "      <th>Predictions</th>\n",
       "    </tr>\n",
       "  </thead>\n",
       "  <tbody>\n",
       "    <tr>\n",
       "      <th>0</th>\n",
       "      <td>2024-02-04</td>\n",
       "      <td>ORL</td>\n",
       "      <td>DET</td>\n",
       "      <td>1.359712</td>\n",
       "      <td>3.25</td>\n",
       "      <td>0</td>\n",
       "    </tr>\n",
       "    <tr>\n",
       "      <th>1</th>\n",
       "      <td>2024-02-04</td>\n",
       "      <td>PHO</td>\n",
       "      <td>WAS</td>\n",
       "      <td>1.160000</td>\n",
       "      <td>5.55</td>\n",
       "      <td>1</td>\n",
       "    </tr>\n",
       "  </tbody>\n",
       "</table>\n",
       "</div>"
      ],
      "text/plain": [
       "        date visitor local    v_line  l_line  Predictions\n",
       "0 2024-02-04     ORL   DET  1.359712    3.25            0\n",
       "1 2024-02-04     PHO   WAS  1.160000    5.55            1"
      ]
     },
     "metadata": {},
     "output_type": "display_data"
    }
   ],
   "source": [
    "makeModelPredictions(games_df, tonight_odds, 'SVM')"
   ]
  }
 ],
 "metadata": {
  "kernelspec": {
   "display_name": "Python 3 (ipykernel)",
   "language": "python",
   "name": "python3"
  },
  "language_info": {
   "codemirror_mode": {
    "name": "ipython",
    "version": 3
   },
   "file_extension": ".py",
   "mimetype": "text/x-python",
   "name": "python",
   "nbconvert_exporter": "python",
   "pygments_lexer": "ipython3",
   "version": "3.9.13"
  }
 },
 "nbformat": 4,
 "nbformat_minor": 5
}
