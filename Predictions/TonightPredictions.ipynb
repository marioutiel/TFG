{
 "cells": [
  {
   "cell_type": "code",
   "execution_count": 1,
   "id": "459d3cd2",
   "metadata": {},
   "outputs": [],
   "source": [
    "import pandas as pd\n",
    "import torch"
   ]
  },
  {
   "cell_type": "code",
   "execution_count": 2,
   "id": "a9c150d8",
   "metadata": {},
   "outputs": [],
   "source": [
    "tonight_odds = pd.read_excel('games_odds.xlsx', sheet_name='Tonight')\n",
    "prev_odds = pd.read_excel('games_odds.xlsx', sheet_name='Previous')"
   ]
  },
  {
   "cell_type": "code",
   "execution_count": 3,
   "id": "a66e5e52",
   "metadata": {},
   "outputs": [],
   "source": [
    "import os\n",
    "os.chdir('..')\n",
    "from team_functions import dataPrep, getTeamRollingSeason, mapTeamID\n",
    "from models import *"
   ]
  },
  {
   "cell_type": "code",
   "execution_count": 4,
   "id": "f633eb18",
   "metadata": {
    "scrolled": true
   },
   "outputs": [],
   "source": [
    "games_to_pred = []\n",
    "teams, opps = tonight_odds['visitor'], tonight_odds['local']\n",
    "for team, opp in zip(teams, opps):\n",
    "    team_row = {}\n",
    "    team_df = pd.read_excel(f'data/CurrentSeason/{team}.xlsx')\n",
    "    \n",
    "    team_row['Game'] = team_df['Game'].iloc[-1] + 1\n",
    "    team_row['Date'] = tonight_odds.loc[tonight_odds['visitor'] == team, 'date'].iloc[0]\n",
    "    team_row['Streak'] = team_df['Streak'].iloc[-1]\n",
    "\n",
    "    team_cols = ['Pts', 'Pace', 'eFG', 'TOV', 'ORB', 'FTR', 'ORT']\n",
    "    for col in team_cols:\n",
    "        team_row[col] = team_df[col].mean()\n",
    "\n",
    "    opp_df = pd.read_excel(f'data/CurrentSeason/{opp}.xlsx')\n",
    "    team_row['OppID'] = mapTeamID(opp)\n",
    "    \n",
    "    opp_cols = ['Pts', 'eFG', 'TOV', 'ORB', 'FTR', 'ORT']\n",
    "    for col in opp_cols:\n",
    "        team_row['Opp'+col] = opp_df[col].mean()\n",
    "        \n",
    "    team_row['Location'] = 0\n",
    "    \n",
    "    team_row['Month'] = team_row['Date'].month\n",
    "    team_row['DayOfWeek'] = team_row['Date'].weekday()\n",
    "    team_row['DaysOfRest'] = (team_row['Date'] - team_df['Date'].iloc[-1]).days\n",
    "    \n",
    "    team_row['TeamID'] = mapTeamID(team)\n",
    "    team_row['Season'] = 2024\n",
    "    \n",
    "    games_to_pred.append(team_row)\n",
    "    \n",
    "games_df = pd.DataFrame(games_to_pred)"
   ]
  },
  {
   "cell_type": "code",
   "execution_count": 5,
   "id": "68121d0f",
   "metadata": {},
   "outputs": [
    {
     "data": {
      "text/html": [
       "<div>\n",
       "<style scoped>\n",
       "    .dataframe tbody tr th:only-of-type {\n",
       "        vertical-align: middle;\n",
       "    }\n",
       "\n",
       "    .dataframe tbody tr th {\n",
       "        vertical-align: top;\n",
       "    }\n",
       "\n",
       "    .dataframe thead th {\n",
       "        text-align: right;\n",
       "    }\n",
       "</style>\n",
       "<table border=\"1\" class=\"dataframe\">\n",
       "  <thead>\n",
       "    <tr style=\"text-align: right;\">\n",
       "      <th></th>\n",
       "      <th>Game</th>\n",
       "      <th>Date</th>\n",
       "      <th>Streak</th>\n",
       "      <th>Pts</th>\n",
       "      <th>Pace</th>\n",
       "      <th>eFG</th>\n",
       "      <th>TOV</th>\n",
       "      <th>ORB</th>\n",
       "      <th>FTR</th>\n",
       "      <th>ORT</th>\n",
       "      <th>...</th>\n",
       "      <th>OppTOV</th>\n",
       "      <th>OppORB</th>\n",
       "      <th>OppFTR</th>\n",
       "      <th>OppORT</th>\n",
       "      <th>Location</th>\n",
       "      <th>Month</th>\n",
       "      <th>DayOfWeek</th>\n",
       "      <th>DaysOfRest</th>\n",
       "      <th>TeamID</th>\n",
       "      <th>Season</th>\n",
       "    </tr>\n",
       "  </thead>\n",
       "  <tbody>\n",
       "    <tr>\n",
       "      <th>0</th>\n",
       "      <td>73</td>\n",
       "      <td>2024-03-28</td>\n",
       "      <td>-1</td>\n",
       "      <td>121.111111</td>\n",
       "      <td>96.701389</td>\n",
       "      <td>0.579222</td>\n",
       "      <td>10.218056</td>\n",
       "      <td>24.831944</td>\n",
       "      <td>0.190500</td>\n",
       "      <td>124.573611</td>\n",
       "      <td>...</td>\n",
       "      <td>10.760563</td>\n",
       "      <td>27.608451</td>\n",
       "      <td>0.207408</td>\n",
       "      <td>119.176056</td>\n",
       "      <td>0</td>\n",
       "      <td>3</td>\n",
       "      <td>3</td>\n",
       "      <td>3</td>\n",
       "      <td>2</td>\n",
       "      <td>2024</td>\n",
       "    </tr>\n",
       "    <tr>\n",
       "      <th>1</th>\n",
       "      <td>73</td>\n",
       "      <td>2024-03-28</td>\n",
       "      <td>-1</td>\n",
       "      <td>120.611111</td>\n",
       "      <td>99.741667</td>\n",
       "      <td>0.571931</td>\n",
       "      <td>10.909722</td>\n",
       "      <td>21.754167</td>\n",
       "      <td>0.215944</td>\n",
       "      <td>120.134722</td>\n",
       "      <td>...</td>\n",
       "      <td>11.384722</td>\n",
       "      <td>24.848611</td>\n",
       "      <td>0.205931</td>\n",
       "      <td>118.754167</td>\n",
       "      <td>0</td>\n",
       "      <td>3</td>\n",
       "      <td>3</td>\n",
       "      <td>2</td>\n",
       "      <td>17</td>\n",
       "      <td>2024</td>\n",
       "    </tr>\n",
       "  </tbody>\n",
       "</table>\n",
       "<p>2 rows × 23 columns</p>\n",
       "</div>"
      ],
      "text/plain": [
       "   Game       Date  Streak         Pts       Pace       eFG        TOV  \\\n",
       "0    73 2024-03-28      -1  121.111111  96.701389  0.579222  10.218056   \n",
       "1    73 2024-03-28      -1  120.611111  99.741667  0.571931  10.909722   \n",
       "\n",
       "         ORB       FTR         ORT  ...     OppTOV     OppORB    OppFTR  \\\n",
       "0  24.831944  0.190500  124.573611  ...  10.760563  27.608451  0.207408   \n",
       "1  21.754167  0.215944  120.134722  ...  11.384722  24.848611  0.205931   \n",
       "\n",
       "       OppORT  Location  Month  DayOfWeek  DaysOfRest  TeamID  Season  \n",
       "0  119.176056         0      3          3           3       2    2024  \n",
       "1  118.754167         0      3          3           2      17    2024  \n",
       "\n",
       "[2 rows x 23 columns]"
      ]
     },
     "execution_count": 5,
     "metadata": {},
     "output_type": "execute_result"
    }
   ],
   "source": [
    "games_df"
   ]
  },
  {
   "cell_type": "code",
   "execution_count": 6,
   "id": "d76ff170",
   "metadata": {},
   "outputs": [],
   "source": [
    "import joblib"
   ]
  },
  {
   "cell_type": "code",
   "execution_count": 7,
   "id": "29ba22d0",
   "metadata": {},
   "outputs": [],
   "source": [
    "def makeModelPredictions(games_df, odds_df, model_name='LR', nn_name='RNN',show=True):\n",
    "    if model_name == 'NN':\n",
    "        if nn_name == 'FCNN':\n",
    "            fcnns = pd.read_excel('Models/TrainedModels/FCNNs/models.xlsx')\n",
    "            fcnns = fcnns.sort_values(by='Accuracy', ascending=False, ignore_index=True)\n",
    "\n",
    "            model_file = fcnns.iloc[0]['File']\n",
    "\n",
    "            model = torch.load('Models/'+model_file)\n",
    "        elif nn_name == 'RNN':\n",
    "            rnns =  pd.read_excel('Models/TrainedModels/Recurrents/models.xlsx')\n",
    "            rnns = rnns.sort_values(by='Accuracy', ascending=False, ignore_index=True)\n",
    "\n",
    "            model_file = rnns.iloc[0]['File']\n",
    "\n",
    "            model = torch.load('Models/'+model_file)\n",
    "        \n",
    "        scaler = joblib.load(f'Models/Scalers/{nn_name}.pkl')\n",
    "        \n",
    "    else:\n",
    "        model = joblib.load(f'Models/TrainedModels/{model_name}_Model.pkl')\n",
    "        scaler = joblib.load(f'Models/Scalers/{model_name}.bin')\n",
    "        \n",
    "    \n",
    "    scaled_df = scaler.transform(games_df.drop(columns=['Date']))\n",
    "    if model_name == 'NN':\n",
    "        scaled_df = torch.FloatTensor(scaled_df)\n",
    "        predictions = torch.round(model(scaled_df).squeeze(1))\n",
    "        predictions = predictions.detach().numpy()\n",
    "    else:\n",
    "        predictions = model.predict(scaled_df)\n",
    "    \n",
    "    if model_name == 'NN':\n",
    "        model_name = nn_name\n",
    "        \n",
    "    odds_df['Predictions'] = predictions\n",
    "    if show:\n",
    "        print(f'Predictions made by: {model_name}')\n",
    "        display(odds_df)\n",
    "        \n",
    "    odds_df.to_excel(f'Predictions/ModelsPredictions/{model_name}.xlsx', index=0)"
   ]
  },
  {
   "cell_type": "code",
   "execution_count": 8,
   "id": "f8441f30",
   "metadata": {},
   "outputs": [
    {
     "name": "stdout",
     "output_type": "stream",
     "text": [
      "Predictions made by: LR\n"
     ]
    },
    {
     "data": {
      "text/html": [
       "<div>\n",
       "<style scoped>\n",
       "    .dataframe tbody tr th:only-of-type {\n",
       "        vertical-align: middle;\n",
       "    }\n",
       "\n",
       "    .dataframe tbody tr th {\n",
       "        vertical-align: top;\n",
       "    }\n",
       "\n",
       "    .dataframe thead th {\n",
       "        text-align: right;\n",
       "    }\n",
       "</style>\n",
       "<table border=\"1\" class=\"dataframe\">\n",
       "  <thead>\n",
       "    <tr style=\"text-align: right;\">\n",
       "      <th></th>\n",
       "      <th>date</th>\n",
       "      <th>visitor</th>\n",
       "      <th>local</th>\n",
       "      <th>v_line</th>\n",
       "      <th>l_line</th>\n",
       "      <th>Predictions</th>\n",
       "    </tr>\n",
       "  </thead>\n",
       "  <tbody>\n",
       "    <tr>\n",
       "      <th>0</th>\n",
       "      <td>2024-03-28</td>\n",
       "      <td>BOS</td>\n",
       "      <td>ATL</td>\n",
       "      <td>1.074074</td>\n",
       "      <td>9.000000</td>\n",
       "      <td>1</td>\n",
       "    </tr>\n",
       "    <tr>\n",
       "      <th>1</th>\n",
       "      <td>2024-03-28</td>\n",
       "      <td>MIL</td>\n",
       "      <td>NOP</td>\n",
       "      <td>1.869565</td>\n",
       "      <td>1.952381</td>\n",
       "      <td>0</td>\n",
       "    </tr>\n",
       "  </tbody>\n",
       "</table>\n",
       "</div>"
      ],
      "text/plain": [
       "        date visitor local    v_line    l_line  Predictions\n",
       "0 2024-03-28     BOS   ATL  1.074074  9.000000            1\n",
       "1 2024-03-28     MIL   NOP  1.869565  1.952381            0"
      ]
     },
     "metadata": {},
     "output_type": "display_data"
    }
   ],
   "source": [
    "makeModelPredictions(games_df, tonight_odds, 'LR')"
   ]
  },
  {
   "cell_type": "code",
   "execution_count": 9,
   "id": "1690a2df",
   "metadata": {},
   "outputs": [
    {
     "name": "stdout",
     "output_type": "stream",
     "text": [
      "Predictions made by: RF\n"
     ]
    },
    {
     "data": {
      "text/html": [
       "<div>\n",
       "<style scoped>\n",
       "    .dataframe tbody tr th:only-of-type {\n",
       "        vertical-align: middle;\n",
       "    }\n",
       "\n",
       "    .dataframe tbody tr th {\n",
       "        vertical-align: top;\n",
       "    }\n",
       "\n",
       "    .dataframe thead th {\n",
       "        text-align: right;\n",
       "    }\n",
       "</style>\n",
       "<table border=\"1\" class=\"dataframe\">\n",
       "  <thead>\n",
       "    <tr style=\"text-align: right;\">\n",
       "      <th></th>\n",
       "      <th>date</th>\n",
       "      <th>visitor</th>\n",
       "      <th>local</th>\n",
       "      <th>v_line</th>\n",
       "      <th>l_line</th>\n",
       "      <th>Predictions</th>\n",
       "    </tr>\n",
       "  </thead>\n",
       "  <tbody>\n",
       "    <tr>\n",
       "      <th>0</th>\n",
       "      <td>2024-03-28</td>\n",
       "      <td>BOS</td>\n",
       "      <td>ATL</td>\n",
       "      <td>1.074074</td>\n",
       "      <td>9.000000</td>\n",
       "      <td>0</td>\n",
       "    </tr>\n",
       "    <tr>\n",
       "      <th>1</th>\n",
       "      <td>2024-03-28</td>\n",
       "      <td>MIL</td>\n",
       "      <td>NOP</td>\n",
       "      <td>1.869565</td>\n",
       "      <td>1.952381</td>\n",
       "      <td>0</td>\n",
       "    </tr>\n",
       "  </tbody>\n",
       "</table>\n",
       "</div>"
      ],
      "text/plain": [
       "        date visitor local    v_line    l_line  Predictions\n",
       "0 2024-03-28     BOS   ATL  1.074074  9.000000            0\n",
       "1 2024-03-28     MIL   NOP  1.869565  1.952381            0"
      ]
     },
     "metadata": {},
     "output_type": "display_data"
    }
   ],
   "source": [
    "makeModelPredictions(games_df, tonight_odds, 'RF')"
   ]
  },
  {
   "cell_type": "code",
   "execution_count": 10,
   "id": "b0c42a1a",
   "metadata": {},
   "outputs": [
    {
     "name": "stdout",
     "output_type": "stream",
     "text": [
      "Predictions made by: GB\n"
     ]
    },
    {
     "data": {
      "text/html": [
       "<div>\n",
       "<style scoped>\n",
       "    .dataframe tbody tr th:only-of-type {\n",
       "        vertical-align: middle;\n",
       "    }\n",
       "\n",
       "    .dataframe tbody tr th {\n",
       "        vertical-align: top;\n",
       "    }\n",
       "\n",
       "    .dataframe thead th {\n",
       "        text-align: right;\n",
       "    }\n",
       "</style>\n",
       "<table border=\"1\" class=\"dataframe\">\n",
       "  <thead>\n",
       "    <tr style=\"text-align: right;\">\n",
       "      <th></th>\n",
       "      <th>date</th>\n",
       "      <th>visitor</th>\n",
       "      <th>local</th>\n",
       "      <th>v_line</th>\n",
       "      <th>l_line</th>\n",
       "      <th>Predictions</th>\n",
       "    </tr>\n",
       "  </thead>\n",
       "  <tbody>\n",
       "    <tr>\n",
       "      <th>0</th>\n",
       "      <td>2024-03-28</td>\n",
       "      <td>BOS</td>\n",
       "      <td>ATL</td>\n",
       "      <td>1.074074</td>\n",
       "      <td>9.000000</td>\n",
       "      <td>0</td>\n",
       "    </tr>\n",
       "    <tr>\n",
       "      <th>1</th>\n",
       "      <td>2024-03-28</td>\n",
       "      <td>MIL</td>\n",
       "      <td>NOP</td>\n",
       "      <td>1.869565</td>\n",
       "      <td>1.952381</td>\n",
       "      <td>0</td>\n",
       "    </tr>\n",
       "  </tbody>\n",
       "</table>\n",
       "</div>"
      ],
      "text/plain": [
       "        date visitor local    v_line    l_line  Predictions\n",
       "0 2024-03-28     BOS   ATL  1.074074  9.000000            0\n",
       "1 2024-03-28     MIL   NOP  1.869565  1.952381            0"
      ]
     },
     "metadata": {},
     "output_type": "display_data"
    }
   ],
   "source": [
    "makeModelPredictions(games_df, tonight_odds, 'GB')"
   ]
  },
  {
   "cell_type": "code",
   "execution_count": 11,
   "id": "5fcf6223",
   "metadata": {},
   "outputs": [
    {
     "name": "stdout",
     "output_type": "stream",
     "text": [
      "Predictions made by: SVM\n"
     ]
    },
    {
     "data": {
      "text/html": [
       "<div>\n",
       "<style scoped>\n",
       "    .dataframe tbody tr th:only-of-type {\n",
       "        vertical-align: middle;\n",
       "    }\n",
       "\n",
       "    .dataframe tbody tr th {\n",
       "        vertical-align: top;\n",
       "    }\n",
       "\n",
       "    .dataframe thead th {\n",
       "        text-align: right;\n",
       "    }\n",
       "</style>\n",
       "<table border=\"1\" class=\"dataframe\">\n",
       "  <thead>\n",
       "    <tr style=\"text-align: right;\">\n",
       "      <th></th>\n",
       "      <th>date</th>\n",
       "      <th>visitor</th>\n",
       "      <th>local</th>\n",
       "      <th>v_line</th>\n",
       "      <th>l_line</th>\n",
       "      <th>Predictions</th>\n",
       "    </tr>\n",
       "  </thead>\n",
       "  <tbody>\n",
       "    <tr>\n",
       "      <th>0</th>\n",
       "      <td>2024-03-28</td>\n",
       "      <td>BOS</td>\n",
       "      <td>ATL</td>\n",
       "      <td>1.074074</td>\n",
       "      <td>9.000000</td>\n",
       "      <td>0</td>\n",
       "    </tr>\n",
       "    <tr>\n",
       "      <th>1</th>\n",
       "      <td>2024-03-28</td>\n",
       "      <td>MIL</td>\n",
       "      <td>NOP</td>\n",
       "      <td>1.869565</td>\n",
       "      <td>1.952381</td>\n",
       "      <td>0</td>\n",
       "    </tr>\n",
       "  </tbody>\n",
       "</table>\n",
       "</div>"
      ],
      "text/plain": [
       "        date visitor local    v_line    l_line  Predictions\n",
       "0 2024-03-28     BOS   ATL  1.074074  9.000000            0\n",
       "1 2024-03-28     MIL   NOP  1.869565  1.952381            0"
      ]
     },
     "metadata": {},
     "output_type": "display_data"
    }
   ],
   "source": [
    "makeModelPredictions(games_df, tonight_odds, 'SVM')"
   ]
  },
  {
   "cell_type": "code",
   "execution_count": 12,
   "id": "632f1505",
   "metadata": {},
   "outputs": [
    {
     "name": "stdout",
     "output_type": "stream",
     "text": [
      "Predictions made by: FCNN\n"
     ]
    },
    {
     "data": {
      "text/html": [
       "<div>\n",
       "<style scoped>\n",
       "    .dataframe tbody tr th:only-of-type {\n",
       "        vertical-align: middle;\n",
       "    }\n",
       "\n",
       "    .dataframe tbody tr th {\n",
       "        vertical-align: top;\n",
       "    }\n",
       "\n",
       "    .dataframe thead th {\n",
       "        text-align: right;\n",
       "    }\n",
       "</style>\n",
       "<table border=\"1\" class=\"dataframe\">\n",
       "  <thead>\n",
       "    <tr style=\"text-align: right;\">\n",
       "      <th></th>\n",
       "      <th>date</th>\n",
       "      <th>visitor</th>\n",
       "      <th>local</th>\n",
       "      <th>v_line</th>\n",
       "      <th>l_line</th>\n",
       "      <th>Predictions</th>\n",
       "    </tr>\n",
       "  </thead>\n",
       "  <tbody>\n",
       "    <tr>\n",
       "      <th>0</th>\n",
       "      <td>2024-03-28</td>\n",
       "      <td>BOS</td>\n",
       "      <td>ATL</td>\n",
       "      <td>1.074074</td>\n",
       "      <td>9.000000</td>\n",
       "      <td>1.0</td>\n",
       "    </tr>\n",
       "    <tr>\n",
       "      <th>1</th>\n",
       "      <td>2024-03-28</td>\n",
       "      <td>MIL</td>\n",
       "      <td>NOP</td>\n",
       "      <td>1.869565</td>\n",
       "      <td>1.952381</td>\n",
       "      <td>1.0</td>\n",
       "    </tr>\n",
       "  </tbody>\n",
       "</table>\n",
       "</div>"
      ],
      "text/plain": [
       "        date visitor local    v_line    l_line  Predictions\n",
       "0 2024-03-28     BOS   ATL  1.074074  9.000000          1.0\n",
       "1 2024-03-28     MIL   NOP  1.869565  1.952381          1.0"
      ]
     },
     "metadata": {},
     "output_type": "display_data"
    }
   ],
   "source": [
    "makeModelPredictions(games_df, tonight_odds, 'NN', 'FCNN')"
   ]
  },
  {
   "cell_type": "code",
   "execution_count": 13,
   "id": "2ec770f9",
   "metadata": {},
   "outputs": [
    {
     "name": "stdout",
     "output_type": "stream",
     "text": [
      "Predictions made by: RNN\n"
     ]
    },
    {
     "data": {
      "text/html": [
       "<div>\n",
       "<style scoped>\n",
       "    .dataframe tbody tr th:only-of-type {\n",
       "        vertical-align: middle;\n",
       "    }\n",
       "\n",
       "    .dataframe tbody tr th {\n",
       "        vertical-align: top;\n",
       "    }\n",
       "\n",
       "    .dataframe thead th {\n",
       "        text-align: right;\n",
       "    }\n",
       "</style>\n",
       "<table border=\"1\" class=\"dataframe\">\n",
       "  <thead>\n",
       "    <tr style=\"text-align: right;\">\n",
       "      <th></th>\n",
       "      <th>date</th>\n",
       "      <th>visitor</th>\n",
       "      <th>local</th>\n",
       "      <th>v_line</th>\n",
       "      <th>l_line</th>\n",
       "      <th>Predictions</th>\n",
       "    </tr>\n",
       "  </thead>\n",
       "  <tbody>\n",
       "    <tr>\n",
       "      <th>0</th>\n",
       "      <td>2024-03-28</td>\n",
       "      <td>BOS</td>\n",
       "      <td>ATL</td>\n",
       "      <td>1.074074</td>\n",
       "      <td>9.000000</td>\n",
       "      <td>1.0</td>\n",
       "    </tr>\n",
       "    <tr>\n",
       "      <th>1</th>\n",
       "      <td>2024-03-28</td>\n",
       "      <td>MIL</td>\n",
       "      <td>NOP</td>\n",
       "      <td>1.869565</td>\n",
       "      <td>1.952381</td>\n",
       "      <td>1.0</td>\n",
       "    </tr>\n",
       "  </tbody>\n",
       "</table>\n",
       "</div>"
      ],
      "text/plain": [
       "        date visitor local    v_line    l_line  Predictions\n",
       "0 2024-03-28     BOS   ATL  1.074074  9.000000          1.0\n",
       "1 2024-03-28     MIL   NOP  1.869565  1.952381          1.0"
      ]
     },
     "metadata": {},
     "output_type": "display_data"
    }
   ],
   "source": [
    "makeModelPredictions(games_df, tonight_odds, 'NN', 'RNN')"
   ]
  }
 ],
 "metadata": {
  "kernelspec": {
   "display_name": "Python 3 (ipykernel)",
   "language": "python",
   "name": "python3"
  },
  "language_info": {
   "codemirror_mode": {
    "name": "ipython",
    "version": 3
   },
   "file_extension": ".py",
   "mimetype": "text/x-python",
   "name": "python",
   "nbconvert_exporter": "python",
   "pygments_lexer": "ipython3",
   "version": "3.9.13"
  }
 },
 "nbformat": 4,
 "nbformat_minor": 5
}
